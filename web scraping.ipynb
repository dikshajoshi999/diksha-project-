{
 "cells": [
  {
   "cell_type": "markdown",
   "id": "7338c133",
   "metadata": {},
   "source": [
    "# Web Scraping"
   ]
  },
  {
   "cell_type": "code",
   "execution_count": 1,
   "id": "f4fa2de7",
   "metadata": {},
   "outputs": [],
   "source": [
    "from bs4 import BeautifulSoup\n",
    "from requests import get"
   ]
  },
  {
   "cell_type": "code",
   "execution_count": 19,
   "id": "ff676eaf",
   "metadata": {},
   "outputs": [],
   "source": [
    "url = \"https://timesofindia.indiatimes.com/city/mumbai/mumbai-best-launches-good-quality-food-for-staffers-in-canteen/articleshow/90733665.cms\""
   ]
  },
  {
   "cell_type": "code",
   "execution_count": 20,
   "id": "ee828147",
   "metadata": {},
   "outputs": [],
   "source": [
    "data = get(url)\n",
    "soup = BeautifulSoup(data.content)\n",
    "for i in soup.find_all(\"h1\",class_=\"_1Y-96\"):\n",
    "    span= i.text\n",
    "    "
   ]
  },
  {
   "cell_type": "code",
   "execution_count": 21,
   "id": "75536861",
   "metadata": {},
   "outputs": [
    {
     "data": {
      "text/plain": [
       "'Mumbai: BEST launches good quality food for staffers in canteen'"
      ]
     },
     "execution_count": 21,
     "metadata": {},
     "output_type": "execute_result"
    }
   ],
   "source": [
    "span"
   ]
  },
  {
   "cell_type": "code",
   "execution_count": 29,
   "id": "8303f61b",
   "metadata": {},
   "outputs": [],
   "source": [
    "url = \"https://timesofindia.indiatimes.com/india/coronavirus-news-india-live-updates-april-7/liveblog/90696442.cms\"\n",
    "data = get(url)\n",
    "soup = BeautifulSoup(data.content)"
   ]
  },
  {
   "cell_type": "code",
   "execution_count": 30,
   "id": "3c42c2ad",
   "metadata": {},
   "outputs": [],
   "source": [
    "h1 = []\n",
    "for i in soup.find_all(\"h1\"):\n",
    "    h1.append(i.text) "
   ]
  },
  {
   "cell_type": "code",
   "execution_count": 31,
   "id": "e77c9b3d",
   "metadata": {},
   "outputs": [
    {
     "data": {
      "text/plain": [
       "['Covid-19 News in India LIVE: Govt writes to Delhi, Haryana, Kerala, Maharashtra and Mizoram over increase in Covid-19 cases']"
      ]
     },
     "execution_count": 31,
     "metadata": {},
     "output_type": "execute_result"
    }
   ],
   "source": [
    "h1"
   ]
  },
  {
   "cell_type": "code",
   "execution_count": 33,
   "id": "52ece7c6",
   "metadata": {},
   "outputs": [],
   "source": [
    "date = soup.find_all(\"div\",class_=\"_3mMxl\")[0].text"
   ]
  },
  {
   "cell_type": "code",
   "execution_count": 34,
   "id": "f4437dd2",
   "metadata": {},
   "outputs": [
    {
     "data": {
      "text/plain": [
       "'THE TIMES OF INDIA | Apr 08, 2022, 21:24:18 IST'"
      ]
     },
     "execution_count": 34,
     "metadata": {},
     "output_type": "execute_result"
    }
   ],
   "source": [
    "date"
   ]
  },
  {
   "cell_type": "code",
   "execution_count": 36,
   "id": "bdc2f104",
   "metadata": {},
   "outputs": [
    {
     "data": {
      "text/plain": [
       "'Covid-19 precaution dose will now be available to 18+ population group from April 10 at private vaccination centres. All those who are more than 18 years of age and have completed 9 months after the administration of second dose, would be eligible for the precaution dose. Stay with TOI for all updates related to Covid-19:Read Less'"
      ]
     },
     "execution_count": 36,
     "metadata": {},
     "output_type": "execute_result"
    }
   ],
   "source": [
    "soup.find(\"p\").text"
   ]
  },
  {
   "cell_type": "markdown",
   "id": "0a89a730",
   "metadata": {},
   "source": [
    "# Fetching multiple urls ,headlines,articles"
   ]
  },
  {
   "cell_type": "code",
   "execution_count": 2,
   "id": "48d016df",
   "metadata": {},
   "outputs": [],
   "source": [
    "url =  \"https://www.opindia.com/latest-news/\""
   ]
  },
  {
   "cell_type": "code",
   "execution_count": 3,
   "id": "44296461",
   "metadata": {},
   "outputs": [
    {
     "data": {
      "text/plain": [
       "'https://www.opindia.com/latest-news/'"
      ]
     },
     "execution_count": 3,
     "metadata": {},
     "output_type": "execute_result"
    }
   ],
   "source": [
    "url"
   ]
  },
  {
   "cell_type": "code",
   "execution_count": 4,
   "id": "c33910d6",
   "metadata": {},
   "outputs": [],
   "source": [
    "from requests import get\n",
    "from bs4 import BeautifulSoup"
   ]
  },
  {
   "cell_type": "code",
   "execution_count": 5,
   "id": "a8cace3b",
   "metadata": {},
   "outputs": [],
   "source": [
    "data = get(url)\n",
    "soup = BeautifulSoup(data.content)"
   ]
  },
  {
   "cell_type": "code",
   "execution_count": 6,
   "id": "7fc68d46",
   "metadata": {},
   "outputs": [],
   "source": [
    "urls = []\n",
    "for i in soup.find_all(\"h3\",class_=\"entry-title td-module-title\"):\n",
    "    urls.append(i.a['href'])\n",
    "    "
   ]
  },
  {
   "cell_type": "code",
   "execution_count": 7,
   "id": "5fa8f66d",
   "metadata": {},
   "outputs": [
    {
     "data": {
      "text/plain": [
       "['https://www.opindia.com/2022/04/bhopal-court-summons-sp-mp-jaya-bachchan-cancelling-land-deal-receiving-payment/',\n",
       " 'https://www.opindia.com/2022/04/aap-president-himachal-pradesh-unit-joins-bjp-after-arvind-kejriwal-visit/',\n",
       " 'https://www.opindia.com/2022/04/tajinder-bagga-fir-case-punjab-and-haryana-hc-asks-delhi-police-to-follow-sc-guidelines/',\n",
       " 'https://www.opindia.com/2022/04/tmc-panchayat-leader-threatens-to-blow-up-an-entire-village-with-bombs-in-10-minutes/',\n",
       " 'https://www.opindia.com/2022/04/transport-workers-pelt-stones-slippers-sharad-pawars-residence/',\n",
       " 'https://www.opindia.com/2022/04/indian-liberals-quint-hindu-save-liberals-china-sri-lanka-crisis/',\n",
       " 'https://www.opindia.com/2022/04/dear-liberals-here-is-how-you-can-stop-bjp-written-by-a-bjp-supporter/',\n",
       " 'https://www.opindia.com/2022/04/the-wire-siddharth-varadarajan-fake-story-agenda-journalism/',\n",
       " 'https://www.opindia.com/2022/04/arvind-kejriwal-fuels-centre-state-divide-by-baseless-claims-on-revenue/',\n",
       " 'https://www.opindia.com/2022/04/umar-khalid-girlfriend-banojyotsna-lahiri-mid-day-article/',\n",
       " 'https://www.opindia.com/2022/04/loan-underwriting-adani-sbi-congress-fact-check/',\n",
       " 'https://www.opindia.com/2022/03/kashmiri-teacher-dilip-bhan-how-aap-discredited-a-petitioner-in-kmt-case-against-delhi-govt/',\n",
       " 'https://www.opindia.com/2022/03/fact-check-viral-message-claims-arms-cache-seized-from-a-madrassa-in-uttar-pradeshs-bijnor/',\n",
       " 'https://www.opindia.com/2022/03/arvind-kejriwal-spreads-misinformation-free-ration-distribution-to-poor-here-is-what-happened/',\n",
       " 'https://www.opindia.com/2022/04/madhya-pradesh-relatives-and-friends-theatre-artist-gherao-cops-oppose-arrest-journalist-stripped/',\n",
       " 'https://www.opindia.com/2022/04/the-wire-siddharth-varadarajan-fake-story-agenda-journalism/',\n",
       " 'https://www.opindia.com/2022/04/washington-post-columnist-khaled-beydoun-blames-hindus-for-attack-on-hindu-rally/',\n",
       " 'https://www.opindia.com/2022/04/siddharth-varadarajan-the-wire-fake-sob-story-hindu-muslim-couple-italy-anti-india/',\n",
       " 'https://www.opindia.com/2022/04/news-nation-fires-journalist-wajid-ali-over-hateful-messages-abusing-hindu-gods/',\n",
       " 'https://www.opindia.com/2022/04/nma-asks-asi-to-move-two-ganesha-idols-qutub-minar-complex-to-national-museum-report/',\n",
       " 'https://www.opindia.com/2022/04/new-book-kartikeya-tanna-smriti-irani-why-she-won-amethi-excerpt/',\n",
       " 'https://www.opindia.com/2022/04/need-of-the-hour-is-decolonisation-of-the-individual/',\n",
       " 'https://www.opindia.com/2022/04/chhatrapati-sambhaji-maharaj-aurangzeb-torture-death-anniversary-maratha/',\n",
       " 'https://www.opindia.com/2022/04/loan-underwriting-adani-sbi-congress-fact-check/',\n",
       " 'https://www.opindia.com/2022/04/explained-the-criminal-procedure-identification-bill-2022/',\n",
       " 'https://www.opindia.com/2022/04/how-animal-is-slaughtered-in-a-halal-way-and-why-stunning-may-not-adhere-to-islamic-principles/',\n",
       " 'https://www.opindia.com/2022/04/punjab-majitha-all-you-need-to-know-muslim-gujjar-jat-clash/',\n",
       " 'https://www.opindia.com/2022/04/bhopal-court-summons-sp-mp-jaya-bachchan-cancelling-land-deal-receiving-payment/',\n",
       " 'https://www.opindia.com/2022/04/aap-president-himachal-pradesh-unit-joins-bjp-after-arvind-kejriwal-visit/',\n",
       " 'https://www.opindia.com/2022/04/tajinder-bagga-fir-case-punjab-and-haryana-hc-asks-delhi-police-to-follow-sc-guidelines/',\n",
       " 'https://www.opindia.com/2022/04/tmc-panchayat-leader-threatens-to-blow-up-an-entire-village-with-bombs-in-10-minutes/',\n",
       " 'https://www.opindia.com/2022/04/transport-workers-pelt-stones-slippers-sharad-pawars-residence/',\n",
       " 'https://www.opindia.com/2022/04/indian-liberals-quint-hindu-save-liberals-china-sri-lanka-crisis/',\n",
       " 'https://www.opindia.com/2022/04/dear-liberals-here-is-how-you-can-stop-bjp-written-by-a-bjp-supporter/',\n",
       " 'https://www.opindia.com/2022/04/the-wire-siddharth-varadarajan-fake-story-agenda-journalism/',\n",
       " 'https://www.opindia.com/2022/04/arvind-kejriwal-fuels-centre-state-divide-by-baseless-claims-on-revenue/',\n",
       " 'https://www.opindia.com/2022/04/umar-khalid-girlfriend-banojyotsna-lahiri-mid-day-article/',\n",
       " 'https://www.opindia.com/2022/04/loan-underwriting-adani-sbi-congress-fact-check/',\n",
       " 'https://www.opindia.com/2022/03/kashmiri-teacher-dilip-bhan-how-aap-discredited-a-petitioner-in-kmt-case-against-delhi-govt/',\n",
       " 'https://www.opindia.com/2022/03/fact-check-viral-message-claims-arms-cache-seized-from-a-madrassa-in-uttar-pradeshs-bijnor/',\n",
       " 'https://www.opindia.com/2022/03/arvind-kejriwal-spreads-misinformation-free-ration-distribution-to-poor-here-is-what-happened/',\n",
       " 'https://www.opindia.com/2022/04/madhya-pradesh-relatives-and-friends-theatre-artist-gherao-cops-oppose-arrest-journalist-stripped/',\n",
       " 'https://www.opindia.com/2022/04/the-wire-siddharth-varadarajan-fake-story-agenda-journalism/',\n",
       " 'https://www.opindia.com/2022/04/washington-post-columnist-khaled-beydoun-blames-hindus-for-attack-on-hindu-rally/',\n",
       " 'https://www.opindia.com/2022/04/siddharth-varadarajan-the-wire-fake-sob-story-hindu-muslim-couple-italy-anti-india/',\n",
       " 'https://www.opindia.com/2022/04/news-nation-fires-journalist-wajid-ali-over-hateful-messages-abusing-hindu-gods/',\n",
       " 'https://www.opindia.com/2022/04/nma-asks-asi-to-move-two-ganesha-idols-qutub-minar-complex-to-national-museum-report/',\n",
       " 'https://www.opindia.com/2022/04/new-book-kartikeya-tanna-smriti-irani-why-she-won-amethi-excerpt/',\n",
       " 'https://www.opindia.com/2022/04/need-of-the-hour-is-decolonisation-of-the-individual/',\n",
       " 'https://www.opindia.com/2022/04/chhatrapati-sambhaji-maharaj-aurangzeb-torture-death-anniversary-maratha/',\n",
       " 'https://www.opindia.com/2022/04/loan-underwriting-adani-sbi-congress-fact-check/',\n",
       " 'https://www.opindia.com/2022/04/explained-the-criminal-procedure-identification-bill-2022/',\n",
       " 'https://www.opindia.com/2022/04/how-animal-is-slaughtered-in-a-halal-way-and-why-stunning-may-not-adhere-to-islamic-principles/',\n",
       " 'https://www.opindia.com/2022/04/punjab-majitha-all-you-need-to-know-muslim-gujjar-jat-clash/',\n",
       " 'https://www.opindia.com/2022/04/uttar-pradesh-maulvi-and-his-aide-arrested-for-conversion-of-hindu-man-to-islam/',\n",
       " 'https://www.opindia.com/2022/04/karnataka-loudspeaker-row-home-minister-notice-religious-institutions-warns-of-action/',\n",
       " 'https://www.opindia.com/2022/04/maulana-ilyasi-meeting-gorakhnath-temple-attack-accused-2016-details/',\n",
       " 'https://www.opindia.com/2022/04/jammu-kashmir-police-arrest-mastermind-pro-terror-slogans-at-jamia-masjid-pakistan/',\n",
       " 'https://www.opindia.com/2022/04/bhopal-court-summons-sp-mp-jaya-bachchan-cancelling-land-deal-receiving-payment/',\n",
       " 'https://www.opindia.com/2022/04/mha-declares-hafiz-talha-saeed-son-hafiz-mohammad-saeed-designated-terrorist/',\n",
       " 'https://www.opindia.com/2022/04/delhi-house-sonam-kapoor-robbed-feb-delhi-police-question-over-30-staff/',\n",
       " 'https://www.opindia.com/2022/04/navi-mumbai-policeparallel-probe-abbasi-links-maulana-gorakhnath-temple-attack/',\n",
       " 'https://www.opindia.com/2022/04/aap-president-himachal-pradesh-unit-joins-bjp-after-arvind-kejriwal-visit/',\n",
       " 'https://www.opindia.com/2022/04/uttar-pradesh-dr-farooqui-booked-converting-employee-islam-quran/',\n",
       " 'https://www.opindia.com/2022/04/jammu-kashmir-police-books-islamists-azadi-anti-india-slogans-jamia-masjid-srinagar/',\n",
       " 'https://www.opindia.com/2022/04/gujarat-titans-punjab-kings-rahul-tewatia-odean-smith/',\n",
       " 'https://www.opindia.com/2022/04/tajinder-bagga-fir-case-punjab-and-haryana-hc-asks-delhi-police-to-follow-sc-guidelines/',\n",
       " 'https://www.opindia.com/2022/04/loan-underwriting-adani-sbi-congress-fact-check/',\n",
       " 'https://www.opindia.com/2022/04/anti-india-azadi-slogans-raised-at-jamia-mosque-in-srinagar-jammu-and-kashmir/',\n",
       " 'https://www.opindia.com/2022/04/karnataka-muslims-feel-threatened-after-hindu-shop-asked-to-remove-halal-certificate/',\n",
       " 'https://www.opindia.com/2022/04/tmc-panchayat-leader-threatens-to-blow-up-an-entire-village-with-bombs-in-10-minutes/',\n",
       " 'https://www.opindia.com/2022/04/hostages-held-in-syria-by-isis-were-forced-to-sign-hotel-osama/',\n",
       " 'https://www.opindia.com/2022/04/uttar-pradesh-aadil-shakib-arrested-over-threats-of-inciting-riots/',\n",
       " 'https://www.opindia.com/2022/04/aakar-patel-claims-he-was-stopped-from-flying-abroad-because-of-his-book-critcised-modi/',\n",
       " 'https://www.opindia.com/2022/04/assam-3-awarded-death-sentence-for-rape-murder-of-2-minor-tribal-girls/',\n",
       " 'https://www.opindia.com/2022/04/transport-workers-pelt-stones-slippers-sharad-pawars-residence/',\n",
       " 'https://www.opindia.com/2022/04/lashkar-chief-hafiz-saeed-sentenced-to-31-years-in-jail-by-a-pakistani-court/',\n",
       " 'https://www.opindia.com/2022/04/rajasthan-police-try-blame-hindus-for-karauli-violence-stones-pelted-because-songs-played-were-objectionable/',\n",
       " 'https://www.opindia.com/2022/04/indian-liberals-quint-hindu-save-liberals-china-sri-lanka-crisis/',\n",
       " 'https://www.opindia.com/2022/04/after-claiming-india-is-not-a-nation-rahul-gandhi-accuses-bjp-of-dividing-it/',\n",
       " 'https://www.opindia.com/2022/04/the-kashmir-files-250-crores-indian-box-office-vivek-agnihotri-taran-adarsh/',\n",
       " 'https://www.opindia.com/2022/04/fierce-clashes-bettaliban-shoots-down-pakistani-helicopter-reports-fierce-clashes-durand-line-nimroz/',\n",
       " 'https://www.opindia.com/2022/04/supreme-court-upholds-the-constitutional-validity-of-fcra-act-2020/',\n",
       " 'https://www.opindia.com/2022/04/reporter-narrates-what-happened-during-the-communal-violence-in-karauli/',\n",
       " 'https://www.opindia.com/2022/04/dont-spare-criminal-mafia-dont-touch-the-poor-yogi-adityanaths-bulldozer-decree/',\n",
       " 'https://www.opindia.com/2022/04/dear-liberals-here-is-how-you-can-stop-bjp-written-by-a-bjp-supporter/',\n",
       " 'https://www.opindia.com/2022/04/birbhum-violence-four-accused-arrested-by-cbi-from-mumbai-taken-to-kolkata/',\n",
       " 'https://www.opindia.com/2022/04/shivamogga-karnataka-tauseef-five-others-stab-madhu-ganja-public-place/',\n",
       " 'https://www.opindia.com/2022/04/delhi-court-stays-order-asking-cbi-to-withdraw-notice-against-aakar-patel/',\n",
       " 'https://www.opindia.com/2022/04/bengaluru-bomb-schools-threat-email-evacuat/',\n",
       " 'https://www.opindia.com/2022/04/american-airlines-buses-as-flights-plan-social-media-troll-trains/',\n",
       " 'https://www.opindia.com/2022/04/sikkim-govt-creates-new-department-lazy-employees/',\n",
       " 'https://www.opindia.com/2022/04/calcutta-hc-orders-cbi-probe-murder-tmc-leader-birbhum-violence/',\n",
       " 'https://www.opindia.com/2022/04/ukraine-kramatorsk-rocket-strike-train-station-russia/',\n",
       " 'https://www.opindia.com/2022/04/arif-masood-congress-bhopal-hindu-appeasement/',\n",
       " 'https://www.opindia.com/2022/04/meta-removes-russian-accounts-from-facebook-for-mass-reporting-ukrainian-accounts/',\n",
       " 'https://www.opindia.com/2022/04/haryana-182-kashmiri-pandit-families-get-plot-ownership-papers-after-30-years-under-cm-khattar/',\n",
       " 'https://www.opindia.com/2022/04/uttarakhand-muslim-family-attacked-by-neighbours-for-supporting-bjp-in-assembly-polls/',\n",
       " 'https://www.opindia.com/2022/04/delhi-police-arrests-babu-wasim-the-arms-supplier-during-delhi-riots/',\n",
       " 'https://www.opindia.com/2022/04/karnataka-cm-orders-probe-of-al-qaeda-video-supporting-hijab/',\n",
       " 'https://www.opindia.com/2022/04/madhya-pradesh-relatives-and-friends-theatre-artist-gherao-cops-oppose-arrest-journalist-stripped/',\n",
       " 'https://www.opindia.com/2022/04/viral-video-policeman-in-kanpur-slapping-an-accused-named-mehtab-alam/',\n",
       " 'https://www.opindia.com/2022/04/fir-filed-against-bjp-leader-naveen-jindal-over-video-of-arvind-kejrwal/',\n",
       " 'https://www.opindia.com/2022/04/threat-mass-exodus-karauli-what-victims-said-planned-attack/']"
      ]
     },
     "execution_count": 7,
     "metadata": {},
     "output_type": "execute_result"
    }
   ],
   "source": [
    "urls"
   ]
  },
  {
   "cell_type": "code",
   "execution_count": 8,
   "id": "c0e9ddfa",
   "metadata": {},
   "outputs": [],
   "source": [
    "headlines = []\n",
    "articles = []\n",
    "for j in urls:\n",
    "    data = get(j)\n",
    "    soup = BeautifulSoup(data.content)\n",
    "    for i  in soup.find_all(\"h1\"):\n",
    "        headlines.append(i.text)\n",
    "    for i in soup.find(\"p\"):\n",
    "        articles.append(i.text)"
   ]
  },
  {
   "cell_type": "code",
   "execution_count": 9,
   "id": "098b8e12",
   "metadata": {},
   "outputs": [
    {
     "data": {
      "text/plain": [
       "['Bhopal court summons Samajwadi Party MP and actress Jaya Bachchan for cancelling land deal after receiving payment: Details',\n",
       " 'Aam Aadmi Party suffers a major blow, President of Himachal Pradesh unit defects to BJP right after Arvind Kejriwal’s ‘rath yatra’',\n",
       " 'Tajinder Pal Singh Bagga FIR case: Punjab and Haryana HC pulls up Punjab Police, warns them against violating SC guidelines',\n",
       " '‘Have enough bombs to blow up the entire village in 10 minutes’: TMC panchayat leader Shakir Ahmed caught on camera',\n",
       " 'Maharashtra: Protesting State Transport workers pelt stones and slippers at Sharad Pawar’s residence',\n",
       " 'Indian liberals rush to save their favoured elites and GHQ as poor Sri Lankans suffer: Will they now blame Brahminical patriarchy? RSS? Modi?',\n",
       " 'Dear liberals, here is how you can stop the BJP – written by a BJP\\xa0supporter',\n",
       " 'Founding editor of TheWire, Siddharth Varadarajan, his fictitious tales and agenda journalism: How he spun a yarn yet again',\n",
       " 'Arvind Kejriwal claims Bhagwant Mann was demanding Punjab’s own money while seeking central aide, this is why he is playing a dangerous game',\n",
       " 'While riot accused’s girlfriend’s culinary dilemma has mainstream media heart-eyed, the families of actual victims are forgotten',\n",
       " 'Congress supporters confuse loan underwriting with write off and waive off, wrongly accuses SBI of waiving loan to Adani group',\n",
       " 'Kashmiri teacher Dilip Bhan: How AAP discredited a petitioner in KMT case against Delhi Govt',\n",
       " 'Fact check: Viral message claims arms cache seized from a madrassa in Uttar Pradesh’s Bijnor',\n",
       " 'Arvind Kejriwal continues spreading misinformation to cover up AAP’s failure to distribute free rations to the poor in Delhi: Here is what happened',\n",
       " 'MP: Relatives and friends of theatre artist gherao cops to oppose arrest, probe ordered after journalist, others, detained and stripped at the police station',\n",
       " 'Founding editor of TheWire, Siddharth Varadarajan, his fictitious tales and agenda journalism: How he spun a yarn yet again',\n",
       " 'Washington Post columnist Khaled Beydoun spreads lies, blames Hindus for the attack on Hindu New Year celebration in Karauli in Rajasthan',\n",
       " 'Siddharth Varadarajan rants, repeats a probably fictitious sob story about a Hindu-Muslim couple he met in Italy: Here is the problem with it',\n",
       " 'News Nation sacks journalist Wajid Ali over hateful post abusing Hindu Gods',\n",
       " 'NMA asks ASI to move two Ganesha idols from Qutub Minar complex to a ‘respectable’ place at the National Museum: Report',\n",
       " 'New book sheds light on Smriti Irani’s indomitable courage: An incident from December 2020 that stands\\xa0testament to why she won Amethi',\n",
       " '75 years after decolonisation of India, now the need of the hour is decolonisation of the individual',\n",
       " '333 years ago, tyrant Aurangzeb brutally murdered Chhatrapati Sambhaji Maharaj: Read about the torture that he inflicted on the King',\n",
       " 'Congress supporters confuse loan underwriting with write off and waive off, wrongly accuses SBI of waiving loan to Adani group',\n",
       " 'Parliament passes the Criminal Procedure (Identification) Bill 2022: All you need to know about the bill on collection of information related to crimes',\n",
       " 'Explained: How an animal is slaughtered in the ‘halal way’ and why stunning may not adhere to Islamic principles',\n",
       " 'Punjab: All you need to know about the Muslim Gujjar-Jat clash that led to the death of two Muslim Gujjars in Majitha',\n",
       " 'Bhopal court summons Samajwadi Party MP and actress Jaya Bachchan for cancelling land deal after receiving payment: Details',\n",
       " 'Aam Aadmi Party suffers a major blow, President of Himachal Pradesh unit defects to BJP right after Arvind Kejriwal’s ‘rath yatra’',\n",
       " 'Tajinder Pal Singh Bagga FIR case: Punjab and Haryana HC pulls up Punjab Police, warns them against violating SC guidelines',\n",
       " '‘Have enough bombs to blow up the entire village in 10 minutes’: TMC panchayat leader Shakir Ahmed caught on camera',\n",
       " 'Maharashtra: Protesting State Transport workers pelt stones and slippers at Sharad Pawar’s residence',\n",
       " 'Indian liberals rush to save their favoured elites and GHQ as poor Sri Lankans suffer: Will they now blame Brahminical patriarchy? RSS? Modi?',\n",
       " 'Dear liberals, here is how you can stop the BJP – written by a BJP\\xa0supporter',\n",
       " 'Founding editor of TheWire, Siddharth Varadarajan, his fictitious tales and agenda journalism: How he spun a yarn yet again',\n",
       " 'Arvind Kejriwal claims Bhagwant Mann was demanding Punjab’s own money while seeking central aide, this is why he is playing a dangerous game',\n",
       " 'While riot accused’s girlfriend’s culinary dilemma has mainstream media heart-eyed, the families of actual victims are forgotten',\n",
       " 'Congress supporters confuse loan underwriting with write off and waive off, wrongly accuses SBI of waiving loan to Adani group',\n",
       " 'Kashmiri teacher Dilip Bhan: How AAP discredited a petitioner in KMT case against Delhi Govt',\n",
       " 'Fact check: Viral message claims arms cache seized from a madrassa in Uttar Pradesh’s Bijnor',\n",
       " 'Arvind Kejriwal continues spreading misinformation to cover up AAP’s failure to distribute free rations to the poor in Delhi: Here is what happened',\n",
       " 'MP: Relatives and friends of theatre artist gherao cops to oppose arrest, probe ordered after journalist, others, detained and stripped at the police station',\n",
       " 'Founding editor of TheWire, Siddharth Varadarajan, his fictitious tales and agenda journalism: How he spun a yarn yet again',\n",
       " 'Washington Post columnist Khaled Beydoun spreads lies, blames Hindus for the attack on Hindu New Year celebration in Karauli in Rajasthan',\n",
       " 'Siddharth Varadarajan rants, repeats a probably fictitious sob story about a Hindu-Muslim couple he met in Italy: Here is the problem with it',\n",
       " 'News Nation sacks journalist Wajid Ali over hateful post abusing Hindu Gods',\n",
       " 'NMA asks ASI to move two Ganesha idols from Qutub Minar complex to a ‘respectable’ place at the National Museum: Report',\n",
       " 'New book sheds light on Smriti Irani’s indomitable courage: An incident from December 2020 that stands\\xa0testament to why she won Amethi',\n",
       " '75 years after decolonisation of India, now the need of the hour is decolonisation of the individual',\n",
       " '333 years ago, tyrant Aurangzeb brutally murdered Chhatrapati Sambhaji Maharaj: Read about the torture that he inflicted on the King',\n",
       " 'Congress supporters confuse loan underwriting with write off and waive off, wrongly accuses SBI of waiving loan to Adani group',\n",
       " 'Parliament passes the Criminal Procedure (Identification) Bill 2022: All you need to know about the bill on collection of information related to crimes',\n",
       " 'Explained: How an animal is slaughtered in the ‘halal way’ and why stunning may not adhere to Islamic principles',\n",
       " 'Punjab: All you need to know about the Muslim Gujjar-Jat clash that led to the death of two Muslim Gujjars in Majitha',\n",
       " '‘Started talking about living with Jamaatis’: UP Maulvi and his aide arrested for attempting to convert a Hindu man into Islam',\n",
       " 'Karnataka loudspeaker row: Home Minister issues notice to religious institutions including mosques, warns of action if ‘noise not reduced to permissible limit’',\n",
       " 'Another attempt to whitewash? One Maulana Ilyasi talks about his 2016 meeting with the Gorakhnath temple attack accused: Here is what he said',\n",
       " '‘Got instructions from Pakistan’: Jammu and Kashmir police arrest mastermind of pro-terror slogans at Jamia Masjid in Srinagar',\n",
       " 'Bhopal court summons Samajwadi Party MP and actress Jaya Bachchan for cancelling land deal after receiving payment: Details',\n",
       " 'MHA declares Hafiz Talha Saeed, son of Hafiz Mohammad Saeed as a designated terrorist, says ‘actively involved in propagating jihad against India’',\n",
       " 'Delhi Police starts questioning over 30 house staff after Sonam Kapoor’s house was robbed in Feb, involve the Forensics lab in ‘investigation’ too',\n",
       " 'Navi Mumbai Police to launch a parallel probe to ascertain Gorakhnath Temple attacker Abbasi’s links with local Maulana, rule out a possible threat',\n",
       " 'Aam Aadmi Party suffers a major blow, President of Himachal Pradesh unit defects to BJP right after Arvind Kejriwal’s ‘rath yatra’',\n",
       " 'Uttar Pradesh police books\\xa0Dr Farooqui Kamal for converting his employee to Islam, had forced the latter to recite the verses of the Quran\\xa0',\n",
       " 'J&K police initiate action against Islamists who raised Azadi slogans, hailed terrorist Zakir Musa at Jamia Masjid in Srinagar',\n",
       " 'Tewatia returns to haunt Punjab as Gujarat Titans edge home in a last-ball thriller',\n",
       " 'Tajinder Pal Singh Bagga FIR case: Punjab and Haryana HC pulls up Punjab Police, warns them against violating SC guidelines',\n",
       " 'Congress supporters confuse loan underwriting with write off and waive off, wrongly accuses SBI of waiving loan to Adani group',\n",
       " 'Jammu and Kashmir: Anti-India, Azadi slogans raised at Jamia mosque in Srinagar, stones pelted at security officials',\n",
       " 'Karnataka: Hindu ice-cream shop asked to remove Halal certificate or face boycott, Muslim businessman feel threatened, seek help',\n",
       " '‘Have enough bombs to blow up the entire village in 10 minutes’: TMC panchayat leader Shakir Ahmed caught on camera',\n",
       " 'Hostages were forced to sing ‘Hotel Osama’, a depraved parody of ‘Hotel California’: French journalist held by Islamic State in Syria reveals in court',\n",
       " 'Uttar Pradesh: Aadil and Shakib threaten to fire bullets, incite riots, arrested after video goes viral',\n",
       " '‘Likely stopped because my book criticises Modi’: Aakar Patel after being stopped from flying abroad in connection with FCRA case',\n",
       " 'Assam: Muzammil Sheikh, Nazibul Sheikh and Farouk Rahman awarded death sentence for rape and murder of two minor tribal girls',\n",
       " 'Maharashtra: Protesting State Transport workers pelt stones and slippers at Sharad Pawar’s residence',\n",
       " 'Islamic terrorist Hafiz Saeed sentenced to 31 years in jail by an anti-terrorism court in Pakistan',\n",
       " 'Rajasthan Police tries to blame Hindus for Karauli violence, says stones pelted because songs played were ‘objectionable’',\n",
       " 'Indian liberals rush to save their favoured elites and GHQ as poor Sri Lankans suffer: Will they now blame Brahminical patriarchy? RSS? Modi?',\n",
       " 'Rahul Gandhi predicts violence and chaos in India, thanks to politics he himself has been playing',\n",
       " '‘The Kashmir Files’ continues its record-breaking spree, set to cross 250 crores mark in the domestic market',\n",
       " 'Fierce clashes between Taliban and Pakistan Army after Taliban shoots down Pakistani helicopter: Reports',\n",
       " '‘Permitting inflow of foreign donations is a state policy’: SC affirms the constitutional validity of the FCRA Act, 2020',\n",
       " '‘Had goosebumps, saw people brushing off death’, says reporter who captured the iconic image of a cop rescuing a girl during Karauli violence',\n",
       " '‘Don’t spare criminals and mafia, don’t touch the poor’: CM Yogi Adityanath’s orders on the bulldozer use',\n",
       " 'Dear liberals, here is how you can stop the BJP – written by a BJP\\xa0supporter',\n",
       " 'Birbhum violence: Serajul, Mohammad and 2 others arrested from Mumbai; brought back to Kolkata',\n",
       " 'Karnataka: Another Hindu youth, Madhu, stabbed by a mob that was led by one Tauseef',\n",
       " 'Aakar Patel can’t leave India yet, his happiness lasts just a day as CBI court stays Delhi court order',\n",
       " 'Bengaluru: Several schools get bomb threats over e-mail, premises searched after evacuation',\n",
       " 'American Airlines announces ‘buses-as-flights’ plan to combat pilot shortage and high fuel prices, netizens remind them, ‘they are just buses’',\n",
       " '‘Those who do not work and become an obstacle for public work will be transferred’: Sikkim govt creates a new department for lazy employees',\n",
       " 'Calcutta High Court directs a CBI probe into ‘murder’ of TMC leader, Bhadu Sheikh, that sparked Birbhum violence. Here is what it said',\n",
       " 'Ukraine: 30 dead and over 100 injured as rockets strike escaping Civilians in Kramatorsk station',\n",
       " 'From protest against French President Macron to support for Triple Talaq: Who is Arif Masood, Congress leader who attacked his own party for “Hindu appeasement”',\n",
       " 'Meta removes a network of Russian accounts from Facebook for allegedly mass reporting Ukrainian accounts',\n",
       " 'Haryana: 182 Kashmiri Pandit families get land ownership papers after 30 years, under CM Khattar’s ‘Mission Vachanpurti’',\n",
       " '‘You are Kaafirs for betraying Islam and supporting the BJP’: Locals attack a Muslim family for backing BJP in Uttarakhand assembly polls',\n",
       " 'Delhi Police arrest one Babu Wasim who had supplied weapons to Shahrukh Pathan during anti-Hindu Delhi riots in 2020',\n",
       " '‘Not surprised’: Karnataka CM orders probe into the Al-Qaeda video lauding\\xa0pro-hijab protester Muskaan',\n",
       " 'MP: Relatives and friends of theatre artist gherao cops to oppose arrest, probe ordered after journalist, others, detained and stripped at the police station',\n",
       " 'Kanpur: Policeman slaps one Mehtab Alam 5 times in seconds, know the story behind the viral video',\n",
       " '‘AAP using Punjab Police to target BJP workers’, says BJP leader Naveen Jindal after FIR filed against him over video of Arvind Kejrwal',\n",
       " '‘Muslims shut shops just before Karauli violence started’: Another Hindu exodus looms large. Here is what the victims said']"
      ]
     },
     "execution_count": 9,
     "metadata": {},
     "output_type": "execute_result"
    }
   ],
   "source": [
    "headlines"
   ]
  },
  {
   "cell_type": "code",
   "execution_count": 10,
   "id": "41116df8",
   "metadata": {},
   "outputs": [
    {
     "data": {
      "text/plain": [
       "['As the buyers did not agree to her demands, the actress violated the agreement and cancelled the land deal despite receiving the payment, the complainant said. ',\n",
       " \"It must be mentioned that Arvind Kejriwal had recently kickstarted AAP's campaign in Himachal Pradesh, ahead of the State Legislative elections in 68 constituencies this year. He chose the home turg of BJP Chief Minister Jai Ram Thakur for his election campaign.\",\n",
       " \"The Punjab and Haryana HC directed the Punjab Police to not violate the Supreme Court guidelines and asked it to follow the top court's judgment in the Arnesh Kumar case. \",\n",
       " '\"We have such a huge stock of bombs and guns that we can blow up the area in just 10 minutes. Don\\'t worry about the availability of bombs and guns,\" says TMC leader Shakir Ahmed in a video that has gone viral. ',\n",
       " 'On Thursday 7th April 2022, the Bombay high court ordered that protesting state transport workers should join back work',\n",
       " 'Interestingly, it is hard to see many references to China in the Op-Eds on the Sri Lanka crisis in The Hindu, other than to perhaps to say China is trying to help them. But Indian help is portrayed as “tied”. Of course, the article conveniently quotes local sources.',\n",
       " 'No, the BJP is not rigging people’s minds. You have to acknowledge the things this government has done well. You have to talk about what you can do better. And above all, you need patience and humility. Because Congress govts performed so pitifully, it might be a long time before people get tired of Modi. You have to admit that to yourself.',\n",
       " 'Such is the tragedy of Indian media that this man remains relevant even after being found guilty of false narrative building several times in the past. Irrespective of how hard Thambi - the creator of Geetaben of 2002 and an imaginary couple of faraway Italy- tries, Newton Modi’s reign is here to stay.\\xa0',\n",
       " 'State CMs don’t have to go to the centre to ask for their share of revenue as claimed by Kejriwal, the same is already allocated by the centre on the basis of recommendation of the Finance Commission',\n",
       " 'Cicero said that the life of the dead is set in the memory of the living. Where do those dead live whose memories too are erased and wiped off by scheming fanatics with no courage by men who have weaponised their words?\\xa0',\n",
       " 'In a hurry to attack the Modi government and Gautam Adani, the social media users even failed to comprehend the basic difference between waiving off, writing off and underwriting a loan. ',\n",
       " 'Dilip Bhan had a conversation with two channels, Times Now and Aaj Tak. On March 28, Bhan had talked to Times Now Group Editor Navika Kumar.',\n",
       " \"A post alleging that thousands of swords and pistols have been seized from a madrassa in Uttar Pradesh's Bijnor district, along with the arrest of six people, has been doing the rounds on the internet. \",\n",
       " \"It is worth noting that throwing around wild allegations to cover up his government's inadequacies has been catnip for Arvind Kejriwal—a means that he routinely employs to shun accountability—and shift the blame of his failures on others.\",\n",
       " 'Station House officer Majoj Soni said that it was a normal practice in jails to prevent people from committing suicide. \"We keep them in jail in this way so that they cannot commit suicide using their clothes,\" he emphasised.',\n",
       " 'Such is the tragedy of Indian media that this man remains relevant even after being found guilty of false narrative building several times in the past. Irrespective of how hard Thambi - the creator of Geetaben of 2002 and an imaginary couple of faraway Italy- tries, Newton Modi’s reign is here to stay.\\xa0',\n",
       " 'While a Hindu New Year celebration rally was attacked in Rajasthan’s Karauli, Khaled Beydoun posted lies that Muslims were attacked by Hindys',\n",
       " 'Contrary to what the likes of Siddarth Varadarajan may believe, the citizens of India are mature enough, confident enough and intelligent enough to know whom to elect and whom to reject. They get to decide what India will be – not an American editor roaming around the world and trying to make up stories!\\xa0',\n",
       " 'News Nation anchor Shubham Tripathi tweeted, \"There\\'s no space for such Jihadis here. Such people are a blot in the name of journalism.\"',\n",
       " 'The report said that the NMA chairman wrote to ASI late last month saying that he believed that the \"placement of the idols is disrespectful,\" and that it should be changed.',\n",
       " 'One of the principal reasons why Smriti Irani won Amethi was her indomitable courage. From day one, she marched on the streets of Amethi, questioning the claims of her opponent Rahul Gandhi about Amethi’s development. Another incident from December 2020 illustrates her gutsy avatar. ',\n",
       " 'We must own our traditions and heritage, and not be enslaved by any way of thinking that is shallower than that which our civilisation has provided us with.',\n",
       " 'Distorians like Audrey and others have tried to portray Aurangzeb as some kind of benevolent ruler, but the truth of how the Islamic invader tortured Hindu rulers is a chapter of history that can never be forgotten.',\n",
       " 'In a hurry to attack the Modi government and Gautam Adani, the social media users even failed to comprehend the basic difference between waiving off, writing off and underwriting a loan. ',\n",
       " 'With the passing of the Criminal Procedure (Identification) Bill 2022 in both houses, the bill will now be sent to the President for his assent. Once the bill receives his assent, it becomes an act. ',\n",
       " 'In the halal poultry industry, stunning is considered \\'unacceptable.\\' Abdullah, F., Borilova stated, \"Although the voltage of electrical stunning and the size of the birds have been standardised, some birds die due to the stunning process prior to slaughter or a delay in the time of the slaughter process, leading to poor blood drainage,\"',\n",
       " 'Speaking to OpIndia, SHO Harsandeep Singh said that the Police arrested three of the accused. Out of these three, one was sent to judicial custody by the court, and two were in Police remand.',\n",
       " 'As the buyers did not agree to her demands, the actress violated the agreement and cancelled the land deal despite receiving the payment, the complainant said. ',\n",
       " \"It must be mentioned that Arvind Kejriwal had recently kickstarted AAP's campaign in Himachal Pradesh, ahead of the State Legislative elections in 68 constituencies this year. He chose the home turg of BJP Chief Minister Jai Ram Thakur for his election campaign.\",\n",
       " \"The Punjab and Haryana HC directed the Punjab Police to not violate the Supreme Court guidelines and asked it to follow the top court's judgment in the Arnesh Kumar case. \",\n",
       " '\"We have such a huge stock of bombs and guns that we can blow up the area in just 10 minutes. Don\\'t worry about the availability of bombs and guns,\" says TMC leader Shakir Ahmed in a video that has gone viral. ',\n",
       " 'On Thursday 7th April 2022, the Bombay high court ordered that protesting state transport workers should join back work',\n",
       " 'Interestingly, it is hard to see many references to China in the Op-Eds on the Sri Lanka crisis in The Hindu, other than to perhaps to say China is trying to help them. But Indian help is portrayed as “tied”. Of course, the article conveniently quotes local sources.',\n",
       " 'No, the BJP is not rigging people’s minds. You have to acknowledge the things this government has done well. You have to talk about what you can do better. And above all, you need patience and humility. Because Congress govts performed so pitifully, it might be a long time before people get tired of Modi. You have to admit that to yourself.',\n",
       " 'Such is the tragedy of Indian media that this man remains relevant even after being found guilty of false narrative building several times in the past. Irrespective of how hard Thambi - the creator of Geetaben of 2002 and an imaginary couple of faraway Italy- tries, Newton Modi’s reign is here to stay.\\xa0',\n",
       " 'State CMs don’t have to go to the centre to ask for their share of revenue as claimed by Kejriwal, the same is already allocated by the centre on the basis of recommendation of the Finance Commission',\n",
       " 'Cicero said that the life of the dead is set in the memory of the living. Where do those dead live whose memories too are erased and wiped off by scheming fanatics with no courage by men who have weaponised their words?\\xa0',\n",
       " 'In a hurry to attack the Modi government and Gautam Adani, the social media users even failed to comprehend the basic difference between waiving off, writing off and underwriting a loan. ',\n",
       " 'Dilip Bhan had a conversation with two channels, Times Now and Aaj Tak. On March 28, Bhan had talked to Times Now Group Editor Navika Kumar.',\n",
       " \"A post alleging that thousands of swords and pistols have been seized from a madrassa in Uttar Pradesh's Bijnor district, along with the arrest of six people, has been doing the rounds on the internet. \",\n",
       " \"It is worth noting that throwing around wild allegations to cover up his government's inadequacies has been catnip for Arvind Kejriwal—a means that he routinely employs to shun accountability—and shift the blame of his failures on others.\",\n",
       " 'Station House officer Majoj Soni said that it was a normal practice in jails to prevent people from committing suicide. \"We keep them in jail in this way so that they cannot commit suicide using their clothes,\" he emphasised.',\n",
       " 'Such is the tragedy of Indian media that this man remains relevant even after being found guilty of false narrative building several times in the past. Irrespective of how hard Thambi - the creator of Geetaben of 2002 and an imaginary couple of faraway Italy- tries, Newton Modi’s reign is here to stay.\\xa0',\n",
       " 'While a Hindu New Year celebration rally was attacked in Rajasthan’s Karauli, Khaled Beydoun posted lies that Muslims were attacked by Hindys',\n",
       " 'Contrary to what the likes of Siddarth Varadarajan may believe, the citizens of India are mature enough, confident enough and intelligent enough to know whom to elect and whom to reject. They get to decide what India will be – not an American editor roaming around the world and trying to make up stories!\\xa0',\n",
       " 'News Nation anchor Shubham Tripathi tweeted, \"There\\'s no space for such Jihadis here. Such people are a blot in the name of journalism.\"',\n",
       " 'The report said that the NMA chairman wrote to ASI late last month saying that he believed that the \"placement of the idols is disrespectful,\" and that it should be changed.',\n",
       " 'One of the principal reasons why Smriti Irani won Amethi was her indomitable courage. From day one, she marched on the streets of Amethi, questioning the claims of her opponent Rahul Gandhi about Amethi’s development. Another incident from December 2020 illustrates her gutsy avatar. ',\n",
       " 'We must own our traditions and heritage, and not be enslaved by any way of thinking that is shallower than that which our civilisation has provided us with.',\n",
       " 'Distorians like Audrey and others have tried to portray Aurangzeb as some kind of benevolent ruler, but the truth of how the Islamic invader tortured Hindu rulers is a chapter of history that can never be forgotten.',\n",
       " 'In a hurry to attack the Modi government and Gautam Adani, the social media users even failed to comprehend the basic difference between waiving off, writing off and underwriting a loan. ',\n",
       " 'With the passing of the Criminal Procedure (Identification) Bill 2022 in both houses, the bill will now be sent to the President for his assent. Once the bill receives his assent, it becomes an act. ',\n",
       " 'In the halal poultry industry, stunning is considered \\'unacceptable.\\' Abdullah, F., Borilova stated, \"Although the voltage of electrical stunning and the size of the birds have been standardised, some birds die due to the stunning process prior to slaughter or a delay in the time of the slaughter process, leading to poor blood drainage,\"',\n",
       " 'Speaking to OpIndia, SHO Harsandeep Singh said that the Police arrested three of the accused. Out of these three, one was sent to judicial custody by the court, and two were in Police remand.',\n",
       " \"The victim's mother said that her son began reading Namaz and observing Roza after being influenced by the accused. She lamented that he frequently talked about adopting the Muslim religion and living with the Jamaatis.\",\n",
       " 'Karnataka chief minister Basavaraj Bommai stated that the issue of Azaan on loudspeakers in the state would be solved by considering everyone. He cited the High Court order regarding Azaan and said that the installation of decibel meters is being implemented in stages',\n",
       " \"While the Maulana asserted that the accused was under the influence of black magic, police revealed that he was developing a 'jihadi' app. \",\n",
       " 'Several suspects were summoned for interrogation and formal arrests would be made once their role becomes clear in the Friday incident. The police are also investigating the Pakistani angle in connection to the case.',\n",
       " 'As the buyers did not agree to her demands, the actress violated the agreement and cancelled the land deal despite receiving the payment, the complainant said. ',\n",
       " 'The letter also stated that Saeed has been actively visiting various LeT centres across Pakistan and during his sermons propagating for jihad against India, Israel, the United States of America, and Indian interests in other western countries. ',\n",
       " \"Sonam and Anand Ahuja's army of staff and house help are being questioned in the investigations. The Delhi Police is questioning 25 employees in addition to 9 caretakers, drivers, gardeners, and other workers.\",\n",
       " 'The Navi Mumbai police want to confirm that there are no threats from the people who are known to him. Ahmad Murtuza Abbasi, who studied at the prestigious IIT-Bombay, had earlier lived in Navi Mumbai. ',\n",
       " \"It must be mentioned that Arvind Kejriwal had recently kickstarted AAP's campaign in Himachal Pradesh, ahead of the State Legislative elections in 68 constituencies this year. He chose the home turg of BJP Chief Minister Jai Ram Thakur for his election campaign.\",\n",
       " 'Ramraj Yadav claimed Dr Farroqui Kamal made him recite Quran verses and got his Aadhaar card changed in the name of Karam Hussain.',\n",
       " 'The Jammu and Kashmir police have registered a case against the Islamists who raised pro-terror slogans in the Nowhatta police station. ',\n",
       " 'Rahul Tewatia has once again stunned Punjab in an ',\n",
       " 'IPL',\n",
       " ' match to lead his side to a win against all odds. In 2020, it was for R',\n",
       " 'ajasthan Royals',\n",
       " ' as he hit 5 sixes in a row, in 2022, it was with Gujarat Titans as he ended the chase with 2 successive sixes to get his side over the line.',\n",
       " \"The Punjab and Haryana HC directed the Punjab Police to not violate the Supreme Court guidelines and asked it to follow the top court's judgment in the Arnesh Kumar case. \",\n",
       " 'In a hurry to attack the Modi government and Gautam Adani, the social media users even failed to comprehend the basic difference between waiving off, writing off and underwriting a loan. ',\n",
       " 'Chants of Azadi slogans were raised during the Friday prayers, inside the Jamia Masjid in Srinagar, one of the largest mosques in the region. ',\n",
       " 'Muslim vendors and businessmen met with Rinchen Lhamo, a member of the National Commission for Minorities on Thursday to lodge a complaint that the Muslim community is being targeted in Karnataka',\n",
       " '\"We have such a huge stock of bombs and guns that we can blow up the area in just 10 minutes. Don\\'t worry about the availability of bombs and guns,\" says TMC leader Shakir Ahmed in a video that has gone viral. ',\n",
       " 'The notorious kidnapping and murder cell of ISIS known as the \"Beatles\" had forced its captors to sing Hotel Osama, a parody of Hotel California',\n",
       " 'The Ghaziabad police arrested the two accused after a video of the two had gone viral in which they were seen dishing out threats of firing bullets and inciting riots. ',\n",
       " 'Patel was stopped flying abroad after the CBI had issued a Look Out Circular against him in connection with a case registered against Amnesty International India for committing alleged FCRA violations.',\n",
       " 'A special court in Assam, awarded death\\xa0sentence to\\xa0three persons\\xa0in connection with the rape and murder of 2\\xa0tribal girls in June last year.',\n",
       " 'On Thursday 7th April 2022, the Bombay high court ordered that protesting state transport workers should join back work',\n",
       " 'In 2020, a video had surfaced where Saeed, who was supposed to be in jail, was seen travelling with a large convoy of SUVs with Pakistani rangers protecting him.',\n",
       " \"Mohan Lal Lather, DGP, Rajasthan said that the way the Nav Samvatsar procession was carried out was dubious and objectionable songs were played, that's why stone pelting took place.\",\n",
       " 'Interestingly, it is hard to see many references to China in the Op-Eds on the Sri Lanka crisis in The Hindu, other than to perhaps to say China is trying to help them. But Indian help is portrayed as “tied”. Of course, the article conveniently quotes local sources.',\n",
       " 'Rahul Gandhi claimed that Sri Lanka is facing unprecedented economic crisis because ‘truth came out’, and warned that India will also face the same situation soon.',\n",
       " 'The Kashmir Files, based on the Kashmiri Hindu genocide, has become one of the biggest Hindi blockbusters in the post-pandemic era.',\n",
       " \"Hashim Wahdatyar, an Afghanistan-based US journalist, revealed that the Taliban forces shot Pakistan's helicopter in Nimroz province, along the Durand Line. \",\n",
       " 'The court further noted that there is no \"paucity of donors\" in India and asked charitable organisations and NGOs to seek donations from within the country, obviating the influence of foreign countries owing to foreign contributions. ',\n",
       " 'Dainik Bhasker reporter Umesh Sharma had clicked the photograph showing constable Netresh Sharma rescuing a 3-year-old girl from burning houses during Karauli violence',\n",
       " 'ADG (Law and Order) Prashant Kumar said, \"Instructions have come that bulldozer should not be misused. Bulldozers have been used against illegal construction. This includes illegal construction on government properties and land. All judicial processes are completed before demolition.\"',\n",
       " 'No, the BJP is not rigging people’s minds. You have to acknowledge the things this government has done well. You have to talk about what you can do better. And above all, you need patience and humility. Because Congress govts performed so pitifully, it might be a long time before people get tired of Modi. You have to admit that to yourself.',\n",
       " 'The reports identified the accused as Serajul, Taj Mohammad, Shabu Sheikh and Bappa Sheikh. They had fled to Mumbai in Maharashtra on March 22, reportedly after committing the crime. ',\n",
       " \"A few months back, Madhu had objected to Tauseef and his gang smoking 'ganja' in a public place and had even registered a complaint against them. \",\n",
       " 'Staying the order to withdraw look out circular against Aakar Patel, the court said that there has to be a reasonable time to a party',\n",
       " 'Several schools in Bengaluru got bomb threats on Friday morning, according to ',\n",
       " 'reports',\n",
       " '. The message warning the schools about the planted explosives, according to a senior officer, was sent over the email. Bengaluru City Police ordered the immediate evacuation of the schools, and along with a bomb disposal squad, rushed to the areas to conduct additional searches. ',\n",
       " 'An Indian user wrote, \"We call this just a \\'bus\\' in India, in some, you can travel lying down flat on your back all the way. Ok on your side if you are a side sleeper.\"',\n",
       " 'Except for the basic salary, the employees transferred to this department would not be eligible for any other benefits.',\n",
       " 'The Court observed that the burning of a dozen houses and killing of 8 people in the process was a part of a retaliatory plan, borne out of political rivalry between members of 2 groups in Bogtui village.',\n",
       " 'Regional governor Pavlo Kyrylenko has said that thousands of people were at the train station at the time of the strike.',\n",
       " 'Congress has been accused of following many faulty policies and practices during the past few years, but never have they faced accusations of doing \"Hindu appeasement\"',\n",
       " 'A group of hackers purportedly having links with the Belarusian government broke into the Facebook accounts of Ukrainian military officials and posted videos calling on the Ukrainian army to surrender. ',\n",
       " 'Two months ago, a delegation of Kashmiri Pandits met Ajit Balaji Joshi, chief administrator of the Haryana Urban Development Authority (HUDA). He had asked Bahadurgarh Estate Officer Shweta Suhag to look into the matter. Suhag removed all the technical hurdles and paved the way for the allotment of plots to Kashmiri Pandits there.',\n",
       " 'The victims, Anees Mian and his family, including 2 children, who lived in a predominantly Muslim neighbourhood in Udham Singh Nagar of Rudrapur, were attacked by locals for supporting the BJP. ',\n",
       " 'Babu Wasim, as per Delhi Police, was a regular visitor to the Trans-Yamuna area of the NCR and other parts of western UP.',\n",
       " 'Adding that he was not surprised by the video, Bommai said, “Some forces have been at work to create unrest among the people by raking up issues against the State.”',\n",
       " 'Station House officer Majoj Soni said that it was a normal practice in jails to prevent people from committing suicide. \"We keep them in jail in this way so that they cannot commit suicide using their clothes,\" he emphasised.',\n",
       " 'The incident is from Kanpur where the youth named Mehtab Alam was caught harassing a girl near Dayanand Girls Post Graduate College (Civil Lines) on Thursday.',\n",
       " 'The Punjab Police has booked Jindal under sections 465, 469, 471, 500, 504, 505 (1) (b) of the Indian Penal Code, 1860, and section 66 of the Information Technology Act, 2000.',\n",
       " '\"All the shops owned by them are safe. The mob specifically targetted the Hindu shops and set them on fire,\" added Garg, accusing the Muslim mob of meticulously planning the attacks on Hindus in advance. ']"
      ]
     },
     "execution_count": 10,
     "metadata": {},
     "output_type": "execute_result"
    }
   ],
   "source": [
    "articles"
   ]
  },
  {
   "cell_type": "code",
   "execution_count": 11,
   "id": "746d2968",
   "metadata": {},
   "outputs": [],
   "source": [
    "import pandas as pd\n",
    "Q = pd.DataFrame([headlines,articles]).T\n",
    "Q.columns = [\"Headlines\",\"Articles\"]"
   ]
  },
  {
   "cell_type": "code",
   "execution_count": 12,
   "id": "c6d833d7",
   "metadata": {},
   "outputs": [
    {
     "data": {
      "text/html": [
       "<div>\n",
       "<style scoped>\n",
       "    .dataframe tbody tr th:only-of-type {\n",
       "        vertical-align: middle;\n",
       "    }\n",
       "\n",
       "    .dataframe tbody tr th {\n",
       "        vertical-align: top;\n",
       "    }\n",
       "\n",
       "    .dataframe thead th {\n",
       "        text-align: right;\n",
       "    }\n",
       "</style>\n",
       "<table border=\"1\" class=\"dataframe\">\n",
       "  <thead>\n",
       "    <tr style=\"text-align: right;\">\n",
       "      <th></th>\n",
       "      <th>Headlines</th>\n",
       "      <th>Articles</th>\n",
       "    </tr>\n",
       "  </thead>\n",
       "  <tbody>\n",
       "    <tr>\n",
       "      <th>0</th>\n",
       "      <td>Bhopal court summons Samajwadi Party MP and ac...</td>\n",
       "      <td>As the buyers did not agree to her demands, th...</td>\n",
       "    </tr>\n",
       "    <tr>\n",
       "      <th>1</th>\n",
       "      <td>Aam Aadmi Party suffers a major blow, Presiden...</td>\n",
       "      <td>It must be mentioned that Arvind Kejriwal had ...</td>\n",
       "    </tr>\n",
       "    <tr>\n",
       "      <th>2</th>\n",
       "      <td>Tajinder Pal Singh Bagga FIR case: Punjab and ...</td>\n",
       "      <td>The Punjab and Haryana HC directed the Punjab ...</td>\n",
       "    </tr>\n",
       "    <tr>\n",
       "      <th>3</th>\n",
       "      <td>‘Have enough bombs to blow up the entire villa...</td>\n",
       "      <td>\"We have such a huge stock of bombs and guns t...</td>\n",
       "    </tr>\n",
       "    <tr>\n",
       "      <th>4</th>\n",
       "      <td>Maharashtra: Protesting State Transport worker...</td>\n",
       "      <td>On Thursday 7th April 2022, the Bombay high co...</td>\n",
       "    </tr>\n",
       "    <tr>\n",
       "      <th>...</th>\n",
       "      <td>...</td>\n",
       "      <td>...</td>\n",
       "    </tr>\n",
       "    <tr>\n",
       "      <th>105</th>\n",
       "      <td>None</td>\n",
       "      <td>Adding that he was not surprised by the video,...</td>\n",
       "    </tr>\n",
       "    <tr>\n",
       "      <th>106</th>\n",
       "      <td>None</td>\n",
       "      <td>Station House officer Majoj Soni said that it ...</td>\n",
       "    </tr>\n",
       "    <tr>\n",
       "      <th>107</th>\n",
       "      <td>None</td>\n",
       "      <td>The incident is from Kanpur where the youth na...</td>\n",
       "    </tr>\n",
       "    <tr>\n",
       "      <th>108</th>\n",
       "      <td>None</td>\n",
       "      <td>The Punjab Police has booked Jindal under sect...</td>\n",
       "    </tr>\n",
       "    <tr>\n",
       "      <th>109</th>\n",
       "      <td>None</td>\n",
       "      <td>\"All the shops owned by them are safe. The mob...</td>\n",
       "    </tr>\n",
       "  </tbody>\n",
       "</table>\n",
       "<p>110 rows × 2 columns</p>\n",
       "</div>"
      ],
      "text/plain": [
       "                                             Headlines  \\\n",
       "0    Bhopal court summons Samajwadi Party MP and ac...   \n",
       "1    Aam Aadmi Party suffers a major blow, Presiden...   \n",
       "2    Tajinder Pal Singh Bagga FIR case: Punjab and ...   \n",
       "3    ‘Have enough bombs to blow up the entire villa...   \n",
       "4    Maharashtra: Protesting State Transport worker...   \n",
       "..                                                 ...   \n",
       "105                                               None   \n",
       "106                                               None   \n",
       "107                                               None   \n",
       "108                                               None   \n",
       "109                                               None   \n",
       "\n",
       "                                              Articles  \n",
       "0    As the buyers did not agree to her demands, th...  \n",
       "1    It must be mentioned that Arvind Kejriwal had ...  \n",
       "2    The Punjab and Haryana HC directed the Punjab ...  \n",
       "3    \"We have such a huge stock of bombs and guns t...  \n",
       "4    On Thursday 7th April 2022, the Bombay high co...  \n",
       "..                                                 ...  \n",
       "105  Adding that he was not surprised by the video,...  \n",
       "106  Station House officer Majoj Soni said that it ...  \n",
       "107  The incident is from Kanpur where the youth na...  \n",
       "108  The Punjab Police has booked Jindal under sect...  \n",
       "109  \"All the shops owned by them are safe. The mob...  \n",
       "\n",
       "[110 rows x 2 columns]"
      ]
     },
     "execution_count": 12,
     "metadata": {},
     "output_type": "execute_result"
    }
   ],
   "source": [
    "Q"
   ]
  },
  {
   "cell_type": "code",
   "execution_count": 13,
   "id": "1669b865",
   "metadata": {},
   "outputs": [],
   "source": [
    "Q = Q[Q.Headlines.isna() == False]"
   ]
  },
  {
   "cell_type": "code",
   "execution_count": 14,
   "id": "fdf45032",
   "metadata": {},
   "outputs": [],
   "source": [
    "from nltk.corpus import stopwords\n",
    "sw = stopwords.words(\"English\")"
   ]
  },
  {
   "cell_type": "code",
   "execution_count": 18,
   "id": "2c54354c",
   "metadata": {},
   "outputs": [],
   "source": [
    "D = []\n",
    "from re import sub\n",
    "from nltk.stem import PorterStemmer,WordNetLemmatizer\n",
    "ps = PorterStemmer()\n",
    "wn = WordNetLemmatizer()\n",
    "for i in Q.Headlines:\n",
    "    hl = i\n",
    "    upp = hl.upper()\n",
    "    q = sub(\"[^0-9A-Z ]\",\"\",upp)\n",
    "    m = []\n",
    "    sent = \"\"\n",
    "    for j in q.split(\" \"):\n",
    "       \n",
    "    #if(j.lower() not in sw):\n",
    "            j = ps.stem(j)\n",
    "            j = wn.lemmatize(j)\n",
    "            j = j.upper()\n",
    "            sent = sent + \" \" + ps.stem(j).upper()\n",
    "            m.append(j)\n",
    "    D.append(m)"
   ]
  },
  {
   "cell_type": "markdown",
   "id": "b48610ee",
   "metadata": {},
   "source": [
    "# Web scraping with other mthd"
   ]
  },
  {
   "cell_type": "code",
   "execution_count": 20,
   "id": "5e4ff3a3",
   "metadata": {},
   "outputs": [],
   "source": [
    "import requests\n",
    "from bs4 import BeautifulSoup\n",
    "url = \"https://www.opindia.com/latest-news/\"\n",
    "data = requests.get(url)"
   ]
  },
  {
   "cell_type": "code",
   "execution_count": 22,
   "id": "e6a9d0bd",
   "metadata": {},
   "outputs": [],
   "source": [
    "soup = BeautifulSoup(data.content,\"html.parser\")"
   ]
  },
  {
   "cell_type": "code",
   "execution_count": 23,
   "id": "06bd6ca6",
   "metadata": {},
   "outputs": [],
   "source": [
    "def fetch_article(url):\n",
    "    data = requests.get(url)\n",
    "    soup = BeautifulSoup(data.content,\"html.parser\")\n",
    "    articles = []\n",
    "    for i in soup.find_all(\"h3\",class_ = [\"entry-title td-module-title\"]):\n",
    "        articles.append(i.find('a')['title'])     \n",
    "    return articles"
   ]
  },
  {
   "cell_type": "code",
   "execution_count": 24,
   "id": "30c38327",
   "metadata": {},
   "outputs": [],
   "source": [
    "urllist = []\n",
    "for i in range(2,21,1):\n",
    "    url = \"https://www.opindia.com/latest-news/page/\" + str(i) + \"/\"\n",
    "    urllist.append(url)"
   ]
  },
  {
   "cell_type": "code",
   "execution_count": 25,
   "id": "4774a552",
   "metadata": {},
   "outputs": [],
   "source": [
    "all_articles = []\n",
    "for i in urllist:\n",
    "    all_articles.extend(fetch_article(i))"
   ]
  },
  {
   "cell_type": "code",
   "execution_count": 26,
   "id": "1cca644e",
   "metadata": {},
   "outputs": [],
   "source": [
    "p_art =[]\n",
    "for i in all_articles:\n",
    "    q = i.upper()\n",
    "    import re\n",
    "    q = re.sub(\"[^A-Z0-9 ]\",\"\",q)\n",
    "    from nltk.stem import PorterStemmer\n",
    "    tk_q = q.split(\" \")\n",
    "    sent = \"\"\n",
    "    for j in tk_q:\n",
    "        ps = PorterStemmer()\n",
    "        sent = sent + \" \" + ps.stem(j).upper()\n",
    "    p_art.append(sent)"
   ]
  },
  {
   "cell_type": "code",
   "execution_count": 27,
   "id": "2f89cfad",
   "metadata": {},
   "outputs": [],
   "source": [
    "from sklearn.feature_extraction.text import TfidfVectorizer\n",
    "tf = TfidfVectorizer()\n",
    "A = tf.fit_transform(p_art).toarray()"
   ]
  },
  {
   "cell_type": "code",
   "execution_count": 28,
   "id": "8315f2a3",
   "metadata": {},
   "outputs": [],
   "source": [
    "from sklearn.cluster import KMeans\n",
    "km = KMeans(n_clusters=5)\n",
    "cl_res = km.fit(A)"
   ]
  },
  {
   "cell_type": "code",
   "execution_count": 29,
   "id": "c7c7d6bb",
   "metadata": {},
   "outputs": [
    {
     "data": {
      "text/plain": [
       "array([4, 4, 3, ..., 1, 1, 1])"
      ]
     },
     "execution_count": 29,
     "metadata": {},
     "output_type": "execute_result"
    }
   ],
   "source": [
    "cl_res.labels_"
   ]
  },
  {
   "cell_type": "code",
   "execution_count": 30,
   "id": "1e44f184",
   "metadata": {},
   "outputs": [],
   "source": [
    "Q = pd.DataFrame(p_art,columns=[\"Article\"])\n",
    "Q['Cluster']=cl_res.labels_"
   ]
  },
  {
   "cell_type": "code",
   "execution_count": 35,
   "id": "bcd5e254",
   "metadata": {},
   "outputs": [
    {
     "data": {
      "text/html": [
       "<div>\n",
       "<style scoped>\n",
       "    .dataframe tbody tr th:only-of-type {\n",
       "        vertical-align: middle;\n",
       "    }\n",
       "\n",
       "    .dataframe tbody tr th {\n",
       "        vertical-align: top;\n",
       "    }\n",
       "\n",
       "    .dataframe thead th {\n",
       "        text-align: right;\n",
       "    }\n",
       "</style>\n",
       "<table border=\"1\" class=\"dataframe\">\n",
       "  <thead>\n",
       "    <tr style=\"text-align: right;\">\n",
       "      <th></th>\n",
       "      <th>Article</th>\n",
       "      <th>Cluster</th>\n",
       "      <th>category</th>\n",
       "    </tr>\n",
       "  </thead>\n",
       "  <tbody>\n",
       "    <tr>\n",
       "      <th>0</th>\n",
       "      <td>BHOPAL COURT SUMMON SAMAJWADI PARTI MP AND AC...</td>\n",
       "      <td>4</td>\n",
       "      <td>entertainment</td>\n",
       "    </tr>\n",
       "    <tr>\n",
       "      <th>1</th>\n",
       "      <td>AAM AADMI PARTI SUFFER A MAJOR BLOW PRESID OF...</td>\n",
       "      <td>4</td>\n",
       "      <td>entertainment</td>\n",
       "    </tr>\n",
       "    <tr>\n",
       "      <th>2</th>\n",
       "      <td>TAJIND PAL SINGH BAGGA FIR CASE PUNJAB AND HA...</td>\n",
       "      <td>3</td>\n",
       "      <td>sports</td>\n",
       "    </tr>\n",
       "    <tr>\n",
       "      <th>3</th>\n",
       "      <td>HAVE ENOUGH BOMB TO BLOW UP THE ENTIR VILLAG ...</td>\n",
       "      <td>1</td>\n",
       "      <td>politics</td>\n",
       "    </tr>\n",
       "    <tr>\n",
       "      <th>4</th>\n",
       "      <td>MAHARASHTRA PROTEST STATE TRANSPORT WORKER PE...</td>\n",
       "      <td>0</td>\n",
       "      <td>geopolitics</td>\n",
       "    </tr>\n",
       "    <tr>\n",
       "      <th>...</th>\n",
       "      <td>...</td>\n",
       "      <td>...</td>\n",
       "      <td>...</td>\n",
       "    </tr>\n",
       "    <tr>\n",
       "      <th>1971</th>\n",
       "      <td>PUNISH FOR DISBELIEF IN ALLAH ISI PRAIS UKRAI...</td>\n",
       "      <td>1</td>\n",
       "      <td>politics</td>\n",
       "    </tr>\n",
       "    <tr>\n",
       "      <th>1972</th>\n",
       "      <td>AND THE MELTDOWN BEGIN HERE IS WHAT YOGENDRA ...</td>\n",
       "      <td>1</td>\n",
       "      <td>politics</td>\n",
       "    </tr>\n",
       "    <tr>\n",
       "      <th>1973</th>\n",
       "      <td>TRANSPAR PROCESS NO QUESTION OF EVM TAMPER AF...</td>\n",
       "      <td>1</td>\n",
       "      <td>politics</td>\n",
       "    </tr>\n",
       "    <tr>\n",
       "      <th>1974</th>\n",
       "      <td>RAJASTHAN TOP IN RAPE CASE BECAUS IT HA ALWAY...</td>\n",
       "      <td>1</td>\n",
       "      <td>politics</td>\n",
       "    </tr>\n",
       "    <tr>\n",
       "      <th>1975</th>\n",
       "      <td>ALIEN TO SEE PRINC WILLIAM MAKE RACIST COMMEN...</td>\n",
       "      <td>1</td>\n",
       "      <td>politics</td>\n",
       "    </tr>\n",
       "  </tbody>\n",
       "</table>\n",
       "<p>1976 rows × 3 columns</p>\n",
       "</div>"
      ],
      "text/plain": [
       "                                                Article  Cluster  \\\n",
       "0      BHOPAL COURT SUMMON SAMAJWADI PARTI MP AND AC...        4   \n",
       "1      AAM AADMI PARTI SUFFER A MAJOR BLOW PRESID OF...        4   \n",
       "2      TAJIND PAL SINGH BAGGA FIR CASE PUNJAB AND HA...        3   \n",
       "3      HAVE ENOUGH BOMB TO BLOW UP THE ENTIR VILLAG ...        1   \n",
       "4      MAHARASHTRA PROTEST STATE TRANSPORT WORKER PE...        0   \n",
       "...                                                 ...      ...   \n",
       "1971   PUNISH FOR DISBELIEF IN ALLAH ISI PRAIS UKRAI...        1   \n",
       "1972   AND THE MELTDOWN BEGIN HERE IS WHAT YOGENDRA ...        1   \n",
       "1973   TRANSPAR PROCESS NO QUESTION OF EVM TAMPER AF...        1   \n",
       "1974   RAJASTHAN TOP IN RAPE CASE BECAUS IT HA ALWAY...        1   \n",
       "1975   ALIEN TO SEE PRINC WILLIAM MAKE RACIST COMMEN...        1   \n",
       "\n",
       "           category  \n",
       "0     entertainment  \n",
       "1     entertainment  \n",
       "2            sports  \n",
       "3          politics  \n",
       "4       geopolitics  \n",
       "...             ...  \n",
       "1971       politics  \n",
       "1972       politics  \n",
       "1973       politics  \n",
       "1974       politics  \n",
       "1975       politics  \n",
       "\n",
       "[1976 rows x 3 columns]"
      ]
     },
     "execution_count": 35,
     "metadata": {},
     "output_type": "execute_result"
    }
   ],
   "source": [
    "Q"
   ]
  },
  {
   "cell_type": "code",
   "execution_count": 36,
   "id": "4b968fcf",
   "metadata": {},
   "outputs": [],
   "source": [
    "E = {1 : \"politics\",\n",
    "2 : \"religion\",\n",
    "3 : \"sports\",\n",
    "4 : \"indian politics\",\n",
    "0 : \"geopolitics\"}"
   ]
  },
  {
   "cell_type": "code",
   "execution_count": 37,
   "id": "0a33addc",
   "metadata": {},
   "outputs": [],
   "source": [
    "R = []\n",
    "for i in Q.Cluster:\n",
    "    R.append(E[i])\n",
    "\n",
    "Q['category'] = R"
   ]
  },
  {
   "cell_type": "code",
   "execution_count": 38,
   "id": "d640672f",
   "metadata": {},
   "outputs": [
    {
     "data": {
      "text/html": [
       "<div>\n",
       "<style scoped>\n",
       "    .dataframe tbody tr th:only-of-type {\n",
       "        vertical-align: middle;\n",
       "    }\n",
       "\n",
       "    .dataframe tbody tr th {\n",
       "        vertical-align: top;\n",
       "    }\n",
       "\n",
       "    .dataframe thead th {\n",
       "        text-align: right;\n",
       "    }\n",
       "</style>\n",
       "<table border=\"1\" class=\"dataframe\">\n",
       "  <thead>\n",
       "    <tr style=\"text-align: right;\">\n",
       "      <th></th>\n",
       "      <th>Article</th>\n",
       "      <th>Cluster</th>\n",
       "      <th>category</th>\n",
       "    </tr>\n",
       "  </thead>\n",
       "  <tbody>\n",
       "    <tr>\n",
       "      <th>0</th>\n",
       "      <td>BHOPAL COURT SUMMON SAMAJWADI PARTI MP AND AC...</td>\n",
       "      <td>4</td>\n",
       "      <td>indian politics</td>\n",
       "    </tr>\n",
       "    <tr>\n",
       "      <th>1</th>\n",
       "      <td>AAM AADMI PARTI SUFFER A MAJOR BLOW PRESID OF...</td>\n",
       "      <td>4</td>\n",
       "      <td>indian politics</td>\n",
       "    </tr>\n",
       "    <tr>\n",
       "      <th>2</th>\n",
       "      <td>TAJIND PAL SINGH BAGGA FIR CASE PUNJAB AND HA...</td>\n",
       "      <td>3</td>\n",
       "      <td>sports</td>\n",
       "    </tr>\n",
       "    <tr>\n",
       "      <th>3</th>\n",
       "      <td>HAVE ENOUGH BOMB TO BLOW UP THE ENTIR VILLAG ...</td>\n",
       "      <td>1</td>\n",
       "      <td>politics</td>\n",
       "    </tr>\n",
       "    <tr>\n",
       "      <th>4</th>\n",
       "      <td>MAHARASHTRA PROTEST STATE TRANSPORT WORKER PE...</td>\n",
       "      <td>0</td>\n",
       "      <td>geopolitics</td>\n",
       "    </tr>\n",
       "    <tr>\n",
       "      <th>...</th>\n",
       "      <td>...</td>\n",
       "      <td>...</td>\n",
       "      <td>...</td>\n",
       "    </tr>\n",
       "    <tr>\n",
       "      <th>1971</th>\n",
       "      <td>PUNISH FOR DISBELIEF IN ALLAH ISI PRAIS UKRAI...</td>\n",
       "      <td>1</td>\n",
       "      <td>politics</td>\n",
       "    </tr>\n",
       "    <tr>\n",
       "      <th>1972</th>\n",
       "      <td>AND THE MELTDOWN BEGIN HERE IS WHAT YOGENDRA ...</td>\n",
       "      <td>1</td>\n",
       "      <td>politics</td>\n",
       "    </tr>\n",
       "    <tr>\n",
       "      <th>1973</th>\n",
       "      <td>TRANSPAR PROCESS NO QUESTION OF EVM TAMPER AF...</td>\n",
       "      <td>1</td>\n",
       "      <td>politics</td>\n",
       "    </tr>\n",
       "    <tr>\n",
       "      <th>1974</th>\n",
       "      <td>RAJASTHAN TOP IN RAPE CASE BECAUS IT HA ALWAY...</td>\n",
       "      <td>1</td>\n",
       "      <td>politics</td>\n",
       "    </tr>\n",
       "    <tr>\n",
       "      <th>1975</th>\n",
       "      <td>ALIEN TO SEE PRINC WILLIAM MAKE RACIST COMMEN...</td>\n",
       "      <td>1</td>\n",
       "      <td>politics</td>\n",
       "    </tr>\n",
       "  </tbody>\n",
       "</table>\n",
       "<p>1976 rows × 3 columns</p>\n",
       "</div>"
      ],
      "text/plain": [
       "                                                Article  Cluster  \\\n",
       "0      BHOPAL COURT SUMMON SAMAJWADI PARTI MP AND AC...        4   \n",
       "1      AAM AADMI PARTI SUFFER A MAJOR BLOW PRESID OF...        4   \n",
       "2      TAJIND PAL SINGH BAGGA FIR CASE PUNJAB AND HA...        3   \n",
       "3      HAVE ENOUGH BOMB TO BLOW UP THE ENTIR VILLAG ...        1   \n",
       "4      MAHARASHTRA PROTEST STATE TRANSPORT WORKER PE...        0   \n",
       "...                                                 ...      ...   \n",
       "1971   PUNISH FOR DISBELIEF IN ALLAH ISI PRAIS UKRAI...        1   \n",
       "1972   AND THE MELTDOWN BEGIN HERE IS WHAT YOGENDRA ...        1   \n",
       "1973   TRANSPAR PROCESS NO QUESTION OF EVM TAMPER AF...        1   \n",
       "1974   RAJASTHAN TOP IN RAPE CASE BECAUS IT HA ALWAY...        1   \n",
       "1975   ALIEN TO SEE PRINC WILLIAM MAKE RACIST COMMEN...        1   \n",
       "\n",
       "             category  \n",
       "0     indian politics  \n",
       "1     indian politics  \n",
       "2              sports  \n",
       "3            politics  \n",
       "4         geopolitics  \n",
       "...               ...  \n",
       "1971         politics  \n",
       "1972         politics  \n",
       "1973         politics  \n",
       "1974         politics  \n",
       "1975         politics  \n",
       "\n",
       "[1976 rows x 3 columns]"
      ]
     },
     "execution_count": 38,
     "metadata": {},
     "output_type": "execute_result"
    }
   ],
   "source": [
    "Q"
   ]
  },
  {
   "cell_type": "code",
   "execution_count": null,
   "id": "5a1ee27d",
   "metadata": {},
   "outputs": [],
   "source": []
  }
 ],
 "metadata": {
  "kernelspec": {
   "display_name": "Python 3 (ipykernel)",
   "language": "python",
   "name": "python3"
  },
  "language_info": {
   "codemirror_mode": {
    "name": "ipython",
    "version": 3
   },
   "file_extension": ".py",
   "mimetype": "text/x-python",
   "name": "python",
   "nbconvert_exporter": "python",
   "pygments_lexer": "ipython3",
   "version": "3.8.12"
  }
 },
 "nbformat": 4,
 "nbformat_minor": 5
}
