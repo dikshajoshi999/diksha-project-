{
 "cells": [
  {
   "cell_type": "markdown",
   "id": "2494ce92",
   "metadata": {},
   "source": [
    "# Problem Statement:McDonalds case study"
   ]
  },
  {
   "cell_type": "code",
   "execution_count": 9,
   "id": "904fe069",
   "metadata": {},
   "outputs": [],
   "source": [
    "#importing libraries\n",
    "import pandas as pd\n",
    "import matplotlib.pyplot as plt\n",
    "import seaborn as sb"
   ]
  },
  {
   "cell_type": "code",
   "execution_count": 10,
   "id": "529d8d83",
   "metadata": {},
   "outputs": [],
   "source": [
    "#Read the dataset\n",
    "A = pd.read_csv(\"C:/Users/Admin/Downloads/McD.csv\")"
   ]
  },
  {
   "cell_type": "code",
   "execution_count": 13,
   "id": "2b512dc3",
   "metadata": {},
   "outputs": [
    {
     "data": {
      "text/html": [
       "<div>\n",
       "<style scoped>\n",
       "    .dataframe tbody tr th:only-of-type {\n",
       "        vertical-align: middle;\n",
       "    }\n",
       "\n",
       "    .dataframe tbody tr th {\n",
       "        vertical-align: top;\n",
       "    }\n",
       "\n",
       "    .dataframe thead th {\n",
       "        text-align: right;\n",
       "    }\n",
       "</style>\n",
       "<table border=\"1\" class=\"dataframe\">\n",
       "  <thead>\n",
       "    <tr style=\"text-align: right;\">\n",
       "      <th></th>\n",
       "      <th>Unnamed: 0</th>\n",
       "      <th>yummy</th>\n",
       "      <th>convenient</th>\n",
       "      <th>spicy</th>\n",
       "      <th>fattening</th>\n",
       "      <th>greasy</th>\n",
       "      <th>fast</th>\n",
       "      <th>cheap</th>\n",
       "      <th>tasty</th>\n",
       "      <th>expensive</th>\n",
       "      <th>healthy</th>\n",
       "      <th>disgusting</th>\n",
       "      <th>Like</th>\n",
       "      <th>Age</th>\n",
       "      <th>VisitFrequency</th>\n",
       "      <th>Gender</th>\n",
       "    </tr>\n",
       "  </thead>\n",
       "  <tbody>\n",
       "    <tr>\n",
       "      <th>0</th>\n",
       "      <td>0</td>\n",
       "      <td>No</td>\n",
       "      <td>Yes</td>\n",
       "      <td>No</td>\n",
       "      <td>Yes</td>\n",
       "      <td>No</td>\n",
       "      <td>Yes</td>\n",
       "      <td>Yes</td>\n",
       "      <td>No</td>\n",
       "      <td>Yes</td>\n",
       "      <td>No</td>\n",
       "      <td>No</td>\n",
       "      <td>-3</td>\n",
       "      <td>61</td>\n",
       "      <td>Every three months</td>\n",
       "      <td>Female</td>\n",
       "    </tr>\n",
       "    <tr>\n",
       "      <th>1</th>\n",
       "      <td>1</td>\n",
       "      <td>Yes</td>\n",
       "      <td>Yes</td>\n",
       "      <td>No</td>\n",
       "      <td>Yes</td>\n",
       "      <td>Yes</td>\n",
       "      <td>Yes</td>\n",
       "      <td>Yes</td>\n",
       "      <td>Yes</td>\n",
       "      <td>Yes</td>\n",
       "      <td>No</td>\n",
       "      <td>No</td>\n",
       "      <td>+2</td>\n",
       "      <td>51</td>\n",
       "      <td>Every three months</td>\n",
       "      <td>Female</td>\n",
       "    </tr>\n",
       "    <tr>\n",
       "      <th>2</th>\n",
       "      <td>2</td>\n",
       "      <td>No</td>\n",
       "      <td>Yes</td>\n",
       "      <td>Yes</td>\n",
       "      <td>Yes</td>\n",
       "      <td>Yes</td>\n",
       "      <td>Yes</td>\n",
       "      <td>No</td>\n",
       "      <td>Yes</td>\n",
       "      <td>Yes</td>\n",
       "      <td>Yes</td>\n",
       "      <td>No</td>\n",
       "      <td>+1</td>\n",
       "      <td>62</td>\n",
       "      <td>Every three months</td>\n",
       "      <td>Female</td>\n",
       "    </tr>\n",
       "    <tr>\n",
       "      <th>3</th>\n",
       "      <td>3</td>\n",
       "      <td>Yes</td>\n",
       "      <td>Yes</td>\n",
       "      <td>No</td>\n",
       "      <td>Yes</td>\n",
       "      <td>Yes</td>\n",
       "      <td>Yes</td>\n",
       "      <td>Yes</td>\n",
       "      <td>Yes</td>\n",
       "      <td>No</td>\n",
       "      <td>No</td>\n",
       "      <td>Yes</td>\n",
       "      <td>+4</td>\n",
       "      <td>69</td>\n",
       "      <td>Once a week</td>\n",
       "      <td>Female</td>\n",
       "    </tr>\n",
       "    <tr>\n",
       "      <th>4</th>\n",
       "      <td>4</td>\n",
       "      <td>No</td>\n",
       "      <td>Yes</td>\n",
       "      <td>No</td>\n",
       "      <td>Yes</td>\n",
       "      <td>Yes</td>\n",
       "      <td>Yes</td>\n",
       "      <td>Yes</td>\n",
       "      <td>No</td>\n",
       "      <td>No</td>\n",
       "      <td>Yes</td>\n",
       "      <td>No</td>\n",
       "      <td>+2</td>\n",
       "      <td>49</td>\n",
       "      <td>Once a month</td>\n",
       "      <td>Male</td>\n",
       "    </tr>\n",
       "  </tbody>\n",
       "</table>\n",
       "</div>"
      ],
      "text/plain": [
       "   Unnamed: 0 yummy convenient spicy fattening greasy fast cheap tasty  \\\n",
       "0           0    No        Yes    No       Yes     No  Yes   Yes    No   \n",
       "1           1   Yes        Yes    No       Yes    Yes  Yes   Yes   Yes   \n",
       "2           2    No        Yes   Yes       Yes    Yes  Yes    No   Yes   \n",
       "3           3   Yes        Yes    No       Yes    Yes  Yes   Yes   Yes   \n",
       "4           4    No        Yes    No       Yes    Yes  Yes   Yes    No   \n",
       "\n",
       "  expensive healthy disgusting Like  Age      VisitFrequency  Gender  \n",
       "0       Yes      No         No   -3   61  Every three months  Female  \n",
       "1       Yes      No         No   +2   51  Every three months  Female  \n",
       "2       Yes     Yes         No   +1   62  Every three months  Female  \n",
       "3        No      No        Yes   +4   69         Once a week  Female  \n",
       "4        No     Yes         No   +2   49        Once a month    Male  "
      ]
     },
     "execution_count": 13,
     "metadata": {},
     "output_type": "execute_result"
    }
   ],
   "source": [
    "#Preview of data:\n",
    "A.head()"
   ]
  },
  {
   "cell_type": "code",
   "execution_count": 14,
   "id": "fb717b4d",
   "metadata": {},
   "outputs": [],
   "source": [
    "#Separating categorical and continous variables:\n",
    "cat=[]\n",
    "con=[]\n",
    "for i in A:\n",
    "    if(A[i].dtypes==\"object\"):\n",
    "        cat.append(i)\n",
    "    else:\n",
    "        con.append(i)\n",
    "        "
   ]
  },
  {
   "cell_type": "code",
   "execution_count": 15,
   "id": "89f0b2c1",
   "metadata": {},
   "outputs": [
    {
     "data": {
      "text/plain": [
       "['yummy',\n",
       " 'convenient',\n",
       " 'spicy',\n",
       " 'fattening',\n",
       " 'greasy',\n",
       " 'fast',\n",
       " 'cheap',\n",
       " 'tasty',\n",
       " 'expensive',\n",
       " 'healthy',\n",
       " 'disgusting',\n",
       " 'Like',\n",
       " 'VisitFrequency',\n",
       " 'Gender']"
      ]
     },
     "execution_count": 15,
     "metadata": {},
     "output_type": "execute_result"
    }
   ],
   "source": [
    "cat"
   ]
  },
  {
   "cell_type": "code",
   "execution_count": 16,
   "id": "37a7df66",
   "metadata": {},
   "outputs": [
    {
     "data": {
      "text/plain": [
       "['Unnamed: 0', 'Age']"
      ]
     },
     "execution_count": 16,
     "metadata": {},
     "output_type": "execute_result"
    }
   ],
   "source": [
    "con"
   ]
  },
  {
   "cell_type": "code",
   "execution_count": 17,
   "id": "4c6d115e",
   "metadata": {},
   "outputs": [],
   "source": [
    "#Defining X and Y:\n",
    "Y=A[[\"Like\"]]\n",
    "X=A.drop(labels=[\"Like\"],axis=1)"
   ]
  },
  {
   "cell_type": "code",
   "execution_count": 18,
   "id": "897e8631",
   "metadata": {},
   "outputs": [
    {
     "data": {
      "image/png": "[encoded data removed]",
      "text/plain": [
       "<Figure size 432x288 with 1 Axes>"
      ]
     },
     "metadata": {
      "needs_background": "light"
     },
     "output_type": "display_data"
    },
    {
     "data": {
      "image/png": "[encoded data removed]",
      "text/plain": [
       "<Figure size 432x288 with 1 Axes>"
      ]
     },
     "metadata": {
      "needs_background": "light"
     },
     "output_type": "display_data"
    },
    {
     "data": {
      "image/png": "[encoded data removed]",
      "text/plain": [
       "<Figure size 432x288 with 1 Axes>"
      ]
     },
     "metadata": {
      "needs_background": "light"
     },
     "output_type": "display_data"
    },
    {
     "data": {
      "image/png": "[encoded data removed]",
      "text/plain": [
       "<Figure size 432x288 with 1 Axes>"
      ]
     },
     "metadata": {
      "needs_background": "light"
     },
     "output_type": "display_data"
    },
    {
     "data": {
      "image/png": "[encoded data removed]",
      "text/plain": [
       "<Figure size 432x288 with 1 Axes>"
      ]
     },
     "metadata": {
      "needs_background": "light"
     },
     "output_type": "display_data"
    },
    {
     "data": {
      "image/png": "[encoded data removed]",
      "text/plain": [
       "<Figure size 432x288 with 1 Axes>"
      ]
     },
     "metadata": {
      "needs_background": "light"
     },
     "output_type": "display_data"
    },
    {
     "data": {
      "image/png": "[encoded data removed]",
      "text/plain": [
       "<Figure size 432x288 with 1 Axes>"
      ]
     },
     "metadata": {
      "needs_background": "light"
     },
     "output_type": "display_data"
    },
    {
     "data": {
      "image/png": "[encoded data removed]",
      "text/plain": [
       "<Figure size 432x288 with 1 Axes>"
      ]
     },
     "metadata": {
      "needs_background": "light"
     },
     "output_type": "display_data"
    },
    {
     "data": {
      "image/png": "[encoded data removed]",
      "text/plain": [
       "<Figure size 432x288 with 1 Axes>"
      ]
     },
     "metadata": {
      "needs_background": "light"
     },
     "output_type": "display_data"
    },
    {
     "data": {
      "image/png": "[encoded data removed]",
      "text/plain": [
       "<Figure size 432x288 with 1 Axes>"
      ]
     },
     "metadata": {
      "needs_background": "light"
     },
     "output_type": "display_data"
    },
    {
     "data": {
      "image/png": "[encoded data removed]",
      "text/plain": [
       "<Figure size 432x288 with 1 Axes>"
      ]
     },
     "metadata": {
      "needs_background": "light"
     },
     "output_type": "display_data"
    },
    {
     "data": {
      "image/png": "[encoded data removed]",
      "text/plain": [
       "<Figure size 432x288 with 1 Axes>"
      ]
     },
     "metadata": {
      "needs_background": "light"
     },
     "output_type": "display_data"
    },
    {
     "data": {
      "image/png": "[encoded data removed]",
      "text/plain": [
       "<Figure size 432x288 with 1 Axes>"
      ]
     },
     "metadata": {
      "needs_background": "light"
     },
     "output_type": "display_data"
    },
    {
     "data": {
      "image/png": "[encoded data removed]",
      "text/plain": [
       "<Figure size 432x288 with 1 Axes>"
      ]
     },
     "metadata": {
      "needs_background": "light"
     },
     "output_type": "display_data"
    },
    {
     "data": {
      "image/png": "[encoded data removed]",
      "text/plain": [
       "<Figure size 432x288 with 1 Axes>"
      ]
     },
     "metadata": {
      "needs_background": "light"
     },
     "output_type": "display_data"
    }
   ],
   "source": [
    "#Data visualisations:\n",
    "from warnings import filterwarnings\n",
    "filterwarnings(\"ignore\")\n",
    "for i in X.columns:\n",
    "    if(X[i].dtypes==\"object\"):\n",
    "        sb.countplot(X[i],hue=Y.Like)\n",
    "        plt.show()\n",
    "    else:\n",
    "        sb.boxplot(Y.Like,X[i])\n",
    "        plt.show()"
   ]
  },
  {
   "cell_type": "code",
   "execution_count": 21,
   "id": "b183d6df",
   "metadata": {},
   "outputs": [
    {
     "data": {
      "text/plain": [
       "Unnamed: 0        0\n",
       "yummy             0\n",
       "convenient        0\n",
       "spicy             0\n",
       "fattening         0\n",
       "greasy            0\n",
       "fast              0\n",
       "cheap             0\n",
       "tasty             0\n",
       "expensive         0\n",
       "healthy           0\n",
       "disgusting        0\n",
       "Like              0\n",
       "Age               0\n",
       "VisitFrequency    0\n",
       "Gender            0\n",
       "dtype: int64"
      ]
     },
     "execution_count": 21,
     "metadata": {},
     "output_type": "execute_result"
    }
   ],
   "source": [
    "#Checking for missing data:\n",
    "A.isna().sum()"
   ]
  },
  {
   "cell_type": "code",
   "execution_count": 22,
   "id": "3d36722c",
   "metadata": {},
   "outputs": [],
   "source": [
    "#Preprocessing data : created data_prep function under ml_txt module\n",
    "from ml_txt import data_prep\n",
    "Xnew=data_prep(A)"
   ]
  },
  {
   "cell_type": "code",
   "execution_count": 23,
   "id": "53bbc1b4",
   "metadata": {},
   "outputs": [
    {
     "data": {
      "text/html": [
       "<div>\n",
       "<style scoped>\n",
       "    .dataframe tbody tr th:only-of-type {\n",
       "        vertical-align: middle;\n",
       "    }\n",
       "\n",
       "    .dataframe tbody tr th {\n",
       "        vertical-align: top;\n",
       "    }\n",
       "\n",
       "    .dataframe thead th {\n",
       "        text-align: right;\n",
       "    }\n",
       "</style>\n",
       "<table border=\"1\" class=\"dataframe\">\n",
       "  <thead>\n",
       "    <tr style=\"text-align: right;\">\n",
       "      <th></th>\n",
       "      <th>Unnamed: 0</th>\n",
       "      <th>Age</th>\n",
       "      <th>yummy_No</th>\n",
       "      <th>yummy_Yes</th>\n",
       "      <th>convenient_No</th>\n",
       "      <th>convenient_Yes</th>\n",
       "      <th>spicy_No</th>\n",
       "      <th>spicy_Yes</th>\n",
       "      <th>fattening_No</th>\n",
       "      <th>fattening_Yes</th>\n",
       "      <th>...</th>\n",
       "      <th>Like_I hate it!-5</th>\n",
       "      <th>Like_I love it!+5</th>\n",
       "      <th>VisitFrequency_Every three months</th>\n",
       "      <th>VisitFrequency_More than once a week</th>\n",
       "      <th>VisitFrequency_Never</th>\n",
       "      <th>VisitFrequency_Once a month</th>\n",
       "      <th>VisitFrequency_Once a week</th>\n",
       "      <th>VisitFrequency_Once a year</th>\n",
       "      <th>Gender_Female</th>\n",
       "      <th>Gender_Male</th>\n",
       "    </tr>\n",
       "  </thead>\n",
       "  <tbody>\n",
       "    <tr>\n",
       "      <th>0</th>\n",
       "      <td>-1.730859</td>\n",
       "      <td>1.153258</td>\n",
       "      <td>1</td>\n",
       "      <td>0</td>\n",
       "      <td>0</td>\n",
       "      <td>1</td>\n",
       "      <td>1</td>\n",
       "      <td>0</td>\n",
       "      <td>0</td>\n",
       "      <td>1</td>\n",
       "      <td>...</td>\n",
       "      <td>0</td>\n",
       "      <td>0</td>\n",
       "      <td>1</td>\n",
       "      <td>0</td>\n",
       "      <td>0</td>\n",
       "      <td>0</td>\n",
       "      <td>0</td>\n",
       "      <td>0</td>\n",
       "      <td>1</td>\n",
       "      <td>0</td>\n",
       "    </tr>\n",
       "    <tr>\n",
       "      <th>1</th>\n",
       "      <td>-1.728475</td>\n",
       "      <td>0.449839</td>\n",
       "      <td>0</td>\n",
       "      <td>1</td>\n",
       "      <td>0</td>\n",
       "      <td>1</td>\n",
       "      <td>1</td>\n",
       "      <td>0</td>\n",
       "      <td>0</td>\n",
       "      <td>1</td>\n",
       "      <td>...</td>\n",
       "      <td>0</td>\n",
       "      <td>0</td>\n",
       "      <td>1</td>\n",
       "      <td>0</td>\n",
       "      <td>0</td>\n",
       "      <td>0</td>\n",
       "      <td>0</td>\n",
       "      <td>0</td>\n",
       "      <td>1</td>\n",
       "      <td>0</td>\n",
       "    </tr>\n",
       "    <tr>\n",
       "      <th>2</th>\n",
       "      <td>-1.726091</td>\n",
       "      <td>1.223600</td>\n",
       "      <td>1</td>\n",
       "      <td>0</td>\n",
       "      <td>0</td>\n",
       "      <td>1</td>\n",
       "      <td>0</td>\n",
       "      <td>1</td>\n",
       "      <td>0</td>\n",
       "      <td>1</td>\n",
       "      <td>...</td>\n",
       "      <td>0</td>\n",
       "      <td>0</td>\n",
       "      <td>1</td>\n",
       "      <td>0</td>\n",
       "      <td>0</td>\n",
       "      <td>0</td>\n",
       "      <td>0</td>\n",
       "      <td>0</td>\n",
       "      <td>1</td>\n",
       "      <td>0</td>\n",
       "    </tr>\n",
       "    <tr>\n",
       "      <th>3</th>\n",
       "      <td>-1.723707</td>\n",
       "      <td>1.715993</td>\n",
       "      <td>0</td>\n",
       "      <td>1</td>\n",
       "      <td>0</td>\n",
       "      <td>1</td>\n",
       "      <td>1</td>\n",
       "      <td>0</td>\n",
       "      <td>0</td>\n",
       "      <td>1</td>\n",
       "      <td>...</td>\n",
       "      <td>0</td>\n",
       "      <td>0</td>\n",
       "      <td>0</td>\n",
       "      <td>0</td>\n",
       "      <td>0</td>\n",
       "      <td>0</td>\n",
       "      <td>1</td>\n",
       "      <td>0</td>\n",
       "      <td>1</td>\n",
       "      <td>0</td>\n",
       "    </tr>\n",
       "    <tr>\n",
       "      <th>4</th>\n",
       "      <td>-1.721323</td>\n",
       "      <td>0.309156</td>\n",
       "      <td>1</td>\n",
       "      <td>0</td>\n",
       "      <td>0</td>\n",
       "      <td>1</td>\n",
       "      <td>1</td>\n",
       "      <td>0</td>\n",
       "      <td>0</td>\n",
       "      <td>1</td>\n",
       "      <td>...</td>\n",
       "      <td>0</td>\n",
       "      <td>0</td>\n",
       "      <td>0</td>\n",
       "      <td>0</td>\n",
       "      <td>0</td>\n",
       "      <td>1</td>\n",
       "      <td>0</td>\n",
       "      <td>0</td>\n",
       "      <td>0</td>\n",
       "      <td>1</td>\n",
       "    </tr>\n",
       "    <tr>\n",
       "      <th>...</th>\n",
       "      <td>...</td>\n",
       "      <td>...</td>\n",
       "      <td>...</td>\n",
       "      <td>...</td>\n",
       "      <td>...</td>\n",
       "      <td>...</td>\n",
       "      <td>...</td>\n",
       "      <td>...</td>\n",
       "      <td>...</td>\n",
       "      <td>...</td>\n",
       "      <td>...</td>\n",
       "      <td>...</td>\n",
       "      <td>...</td>\n",
       "      <td>...</td>\n",
       "      <td>...</td>\n",
       "      <td>...</td>\n",
       "      <td>...</td>\n",
       "      <td>...</td>\n",
       "      <td>...</td>\n",
       "      <td>...</td>\n",
       "      <td>...</td>\n",
       "    </tr>\n",
       "    <tr>\n",
       "      <th>1448</th>\n",
       "      <td>1.721323</td>\n",
       "      <td>0.168472</td>\n",
       "      <td>1</td>\n",
       "      <td>0</td>\n",
       "      <td>0</td>\n",
       "      <td>1</td>\n",
       "      <td>1</td>\n",
       "      <td>0</td>\n",
       "      <td>0</td>\n",
       "      <td>1</td>\n",
       "      <td>...</td>\n",
       "      <td>1</td>\n",
       "      <td>0</td>\n",
       "      <td>0</td>\n",
       "      <td>0</td>\n",
       "      <td>0</td>\n",
       "      <td>0</td>\n",
       "      <td>0</td>\n",
       "      <td>1</td>\n",
       "      <td>0</td>\n",
       "      <td>1</td>\n",
       "    </tr>\n",
       "    <tr>\n",
       "      <th>1449</th>\n",
       "      <td>1.723707</td>\n",
       "      <td>-0.605289</td>\n",
       "      <td>0</td>\n",
       "      <td>1</td>\n",
       "      <td>0</td>\n",
       "      <td>1</td>\n",
       "      <td>1</td>\n",
       "      <td>0</td>\n",
       "      <td>0</td>\n",
       "      <td>1</td>\n",
       "      <td>...</td>\n",
       "      <td>0</td>\n",
       "      <td>0</td>\n",
       "      <td>0</td>\n",
       "      <td>0</td>\n",
       "      <td>0</td>\n",
       "      <td>0</td>\n",
       "      <td>1</td>\n",
       "      <td>0</td>\n",
       "      <td>1</td>\n",
       "      <td>0</td>\n",
       "    </tr>\n",
       "    <tr>\n",
       "      <th>1450</th>\n",
       "      <td>1.726091</td>\n",
       "      <td>0.520181</td>\n",
       "      <td>0</td>\n",
       "      <td>1</td>\n",
       "      <td>0</td>\n",
       "      <td>1</td>\n",
       "      <td>1</td>\n",
       "      <td>0</td>\n",
       "      <td>0</td>\n",
       "      <td>1</td>\n",
       "      <td>...</td>\n",
       "      <td>0</td>\n",
       "      <td>0</td>\n",
       "      <td>0</td>\n",
       "      <td>0</td>\n",
       "      <td>0</td>\n",
       "      <td>1</td>\n",
       "      <td>0</td>\n",
       "      <td>0</td>\n",
       "      <td>1</td>\n",
       "      <td>0</td>\n",
       "    </tr>\n",
       "    <tr>\n",
       "      <th>1451</th>\n",
       "      <td>1.728475</td>\n",
       "      <td>-0.253579</td>\n",
       "      <td>0</td>\n",
       "      <td>1</td>\n",
       "      <td>0</td>\n",
       "      <td>1</td>\n",
       "      <td>1</td>\n",
       "      <td>0</td>\n",
       "      <td>1</td>\n",
       "      <td>0</td>\n",
       "      <td>...</td>\n",
       "      <td>0</td>\n",
       "      <td>0</td>\n",
       "      <td>1</td>\n",
       "      <td>0</td>\n",
       "      <td>0</td>\n",
       "      <td>0</td>\n",
       "      <td>0</td>\n",
       "      <td>0</td>\n",
       "      <td>0</td>\n",
       "      <td>1</td>\n",
       "    </tr>\n",
       "    <tr>\n",
       "      <th>1452</th>\n",
       "      <td>1.730859</td>\n",
       "      <td>-1.027340</td>\n",
       "      <td>1</td>\n",
       "      <td>0</td>\n",
       "      <td>0</td>\n",
       "      <td>1</td>\n",
       "      <td>1</td>\n",
       "      <td>0</td>\n",
       "      <td>0</td>\n",
       "      <td>1</td>\n",
       "      <td>...</td>\n",
       "      <td>0</td>\n",
       "      <td>0</td>\n",
       "      <td>1</td>\n",
       "      <td>0</td>\n",
       "      <td>0</td>\n",
       "      <td>0</td>\n",
       "      <td>0</td>\n",
       "      <td>0</td>\n",
       "      <td>0</td>\n",
       "      <td>1</td>\n",
       "    </tr>\n",
       "  </tbody>\n",
       "</table>\n",
       "<p>1453 rows × 43 columns</p>\n",
       "</div>"
      ],
      "text/plain": [
       "      Unnamed: 0       Age  yummy_No  yummy_Yes  convenient_No  \\\n",
       "0      -1.730859  1.153258         1          0              0   \n",
       "1      -1.728475  0.449839         0          1              0   \n",
       "2      -1.726091  1.223600         1          0              0   \n",
       "3      -1.723707  1.715993         0          1              0   \n",
       "4      -1.721323  0.309156         1          0              0   \n",
       "...          ...       ...       ...        ...            ...   \n",
       "1448    1.721323  0.168472         1          0              0   \n",
       "1449    1.723707 -0.605289         0          1              0   \n",
       "1450    1.726091  0.520181         0          1              0   \n",
       "1451    1.728475 -0.253579         0          1              0   \n",
       "1452    1.730859 -1.027340         1          0              0   \n",
       "\n",
       "      convenient_Yes  spicy_No  spicy_Yes  fattening_No  fattening_Yes  ...  \\\n",
       "0                  1         1          0             0              1  ...   \n",
       "1                  1         1          0             0              1  ...   \n",
       "2                  1         0          1             0              1  ...   \n",
       "3                  1         1          0             0              1  ...   \n",
       "4                  1         1          0             0              1  ...   \n",
       "...              ...       ...        ...           ...            ...  ...   \n",
       "1448               1         1          0             0              1  ...   \n",
       "1449               1         1          0             0              1  ...   \n",
       "1450               1         1          0             0              1  ...   \n",
       "1451               1         1          0             1              0  ...   \n",
       "1452               1         1          0             0              1  ...   \n",
       "\n",
       "      Like_I hate it!-5  Like_I love it!+5  VisitFrequency_Every three months  \\\n",
       "0                     0                  0                                  1   \n",
       "1                     0                  0                                  1   \n",
       "2                     0                  0                                  1   \n",
       "3                     0                  0                                  0   \n",
       "4                     0                  0                                  0   \n",
       "...                 ...                ...                                ...   \n",
       "1448                  1                  0                                  0   \n",
       "1449                  0                  0                                  0   \n",
       "1450                  0                  0                                  0   \n",
       "1451                  0                  0                                  1   \n",
       "1452                  0                  0                                  1   \n",
       "\n",
       "      VisitFrequency_More than once a week  VisitFrequency_Never  \\\n",
       "0                                        0                     0   \n",
       "1                                        0                     0   \n",
       "2                                        0                     0   \n",
       "3                                        0                     0   \n",
       "4                                        0                     0   \n",
       "...                                    ...                   ...   \n",
       "1448                                     0                     0   \n",
       "1449                                     0                     0   \n",
       "1450                                     0                     0   \n",
       "1451                                     0                     0   \n",
       "1452                                     0                     0   \n",
       "\n",
       "      VisitFrequency_Once a month  VisitFrequency_Once a week  \\\n",
       "0                               0                           0   \n",
       "1                               0                           0   \n",
       "2                               0                           0   \n",
       "3                               0                           1   \n",
       "4                               1                           0   \n",
       "...                           ...                         ...   \n",
       "1448                            0                           0   \n",
       "1449                            0                           1   \n",
       "1450                            1                           0   \n",
       "1451                            0                           0   \n",
       "1452                            0                           0   \n",
       "\n",
       "      VisitFrequency_Once a year  Gender_Female  Gender_Male  \n",
       "0                              0              1            0  \n",
       "1                              0              1            0  \n",
       "2                              0              1            0  \n",
       "3                              0              1            0  \n",
       "4                              0              0            1  \n",
       "...                          ...            ...          ...  \n",
       "1448                           1              0            1  \n",
       "1449                           0              1            0  \n",
       "1450                           0              1            0  \n",
       "1451                           0              0            1  \n",
       "1452                           0              0            1  \n",
       "\n",
       "[1453 rows x 43 columns]"
      ]
     },
     "execution_count": 23,
     "metadata": {},
     "output_type": "execute_result"
    }
   ],
   "source": [
    "Xnew"
   ]
  },
  {
   "cell_type": "code",
   "execution_count": 35,
   "id": "c4045314",
   "metadata": {},
   "outputs": [],
   "source": [
    "#PCA\n",
    "from sklearn.decomposition import PCA"
   ]
  },
  {
   "cell_type": "code",
   "execution_count": 36,
   "id": "b0497f9a",
   "metadata": {},
   "outputs": [],
   "source": [
    "pca = PCA()\n",
    "PCs = pca.fit_transform(Xnew)"
   ]
  },
  {
   "cell_type": "code",
   "execution_count": 37,
   "id": "df3dbc8f",
   "metadata": {},
   "outputs": [
    {
     "data": {
      "text/plain": [
       "array([1.67355221e-01, 1.38414598e-01, 1.23615077e-01, 9.10211152e-02,\n",
       "       6.01875521e-02, 4.98331832e-02, 4.16986664e-02, 3.35391772e-02,\n",
       "       2.96920268e-02, 2.55459993e-02, 2.41998662e-02, 2.06601690e-02,\n",
       "       1.92496876e-02, 1.88304938e-02, 1.77178659e-02, 1.72985622e-02,\n",
       "       1.56476258e-02, 1.49867424e-02, 1.44751836e-02, 1.34025524e-02,\n",
       "       1.26776453e-02, 1.01704191e-02, 9.82175747e-03, 6.62838467e-03,\n",
       "       6.06076410e-03, 5.11070947e-03, 4.86876923e-03, 4.70834613e-03,\n",
       "       2.58183942e-03, 3.30049978e-32, 9.71422169e-33, 3.66208168e-33,\n",
       "       1.31969967e-33, 1.24762129e-33, 1.24762129e-33, 1.24762129e-33,\n",
       "       1.24762129e-33, 1.24762129e-33, 1.24762129e-33, 1.24762129e-33,\n",
       "       1.24762129e-33, 1.24762129e-33, 7.15448686e-35])"
      ]
     },
     "execution_count": 37,
     "metadata": {},
     "output_type": "execute_result"
    }
   ],
   "source": [
    "pca.explained_variance_ratio_"
   ]
  },
  {
   "cell_type": "code",
   "execution_count": 38,
   "id": "14ab6d2f",
   "metadata": {},
   "outputs": [
    {
     "data": {
      "text/html": [
       "<div>\n",
       "<style scoped>\n",
       "    .dataframe tbody tr th:only-of-type {\n",
       "        vertical-align: middle;\n",
       "    }\n",
       "\n",
       "    .dataframe tbody tr th {\n",
       "        vertical-align: top;\n",
       "    }\n",
       "\n",
       "    .dataframe thead th {\n",
       "        text-align: right;\n",
       "    }\n",
       "</style>\n",
       "<table border=\"1\" class=\"dataframe\">\n",
       "  <thead>\n",
       "    <tr style=\"text-align: right;\">\n",
       "      <th></th>\n",
       "      <th>0</th>\n",
       "      <th>1</th>\n",
       "      <th>2</th>\n",
       "      <th>3</th>\n",
       "      <th>4</th>\n",
       "      <th>5</th>\n",
       "      <th>6</th>\n",
       "      <th>7</th>\n",
       "      <th>8</th>\n",
       "      <th>9</th>\n",
       "      <th>...</th>\n",
       "      <th>33</th>\n",
       "      <th>34</th>\n",
       "      <th>35</th>\n",
       "      <th>36</th>\n",
       "      <th>37</th>\n",
       "      <th>38</th>\n",
       "      <th>39</th>\n",
       "      <th>40</th>\n",
       "      <th>41</th>\n",
       "      <th>42</th>\n",
       "    </tr>\n",
       "  </thead>\n",
       "  <tbody>\n",
       "    <tr>\n",
       "      <th>0</th>\n",
       "      <td>1.269263</td>\n",
       "      <td>-1.507346</td>\n",
       "      <td>1.284316</td>\n",
       "      <td>-0.098033</td>\n",
       "      <td>-0.601353</td>\n",
       "      <td>0.544608</td>\n",
       "      <td>-0.631270</td>\n",
       "      <td>0.680723</td>\n",
       "      <td>-0.100626</td>\n",
       "      <td>0.188436</td>\n",
       "      <td>...</td>\n",
       "      <td>1.684839e-16</td>\n",
       "      <td>-2.675465e-16</td>\n",
       "      <td>-5.448152e-16</td>\n",
       "      <td>1.639680e-16</td>\n",
       "      <td>1.797988e-16</td>\n",
       "      <td>-2.801612e-16</td>\n",
       "      <td>1.501601e-16</td>\n",
       "      <td>2.571071e-16</td>\n",
       "      <td>5.318253e-16</td>\n",
       "      <td>-7.181796e-17</td>\n",
       "    </tr>\n",
       "    <tr>\n",
       "      <th>1</th>\n",
       "      <td>-0.344733</td>\n",
       "      <td>-0.790218</td>\n",
       "      <td>1.601187</td>\n",
       "      <td>-0.055468</td>\n",
       "      <td>-0.877057</td>\n",
       "      <td>-1.087338</td>\n",
       "      <td>-0.127872</td>\n",
       "      <td>0.624075</td>\n",
       "      <td>-0.314196</td>\n",
       "      <td>0.337404</td>\n",
       "      <td>...</td>\n",
       "      <td>2.363792e-16</td>\n",
       "      <td>-1.089000e-16</td>\n",
       "      <td>2.508597e-16</td>\n",
       "      <td>2.013084e-17</td>\n",
       "      <td>-2.912577e-16</td>\n",
       "      <td>-3.089059e-16</td>\n",
       "      <td>-8.444357e-17</td>\n",
       "      <td>3.065399e-16</td>\n",
       "      <td>4.504891e-16</td>\n",
       "      <td>-1.031252e-16</td>\n",
       "    </tr>\n",
       "    <tr>\n",
       "      <th>2</th>\n",
       "      <td>0.856185</td>\n",
       "      <td>-1.116424</td>\n",
       "      <td>1.652119</td>\n",
       "      <td>0.849624</td>\n",
       "      <td>-0.993016</td>\n",
       "      <td>-0.863368</td>\n",
       "      <td>0.786258</td>\n",
       "      <td>1.180368</td>\n",
       "      <td>0.868483</td>\n",
       "      <td>0.290231</td>\n",
       "      <td>...</td>\n",
       "      <td>-2.975968e-16</td>\n",
       "      <td>-3.121652e-16</td>\n",
       "      <td>2.231929e-16</td>\n",
       "      <td>3.083811e-16</td>\n",
       "      <td>-4.086399e-18</td>\n",
       "      <td>-2.116233e-16</td>\n",
       "      <td>-4.987443e-17</td>\n",
       "      <td>-1.573530e-16</td>\n",
       "      <td>3.250713e-16</td>\n",
       "      <td>1.800139e-16</td>\n",
       "    </tr>\n",
       "    <tr>\n",
       "      <th>3</th>\n",
       "      <td>0.351291</td>\n",
       "      <td>-1.728754</td>\n",
       "      <td>1.099994</td>\n",
       "      <td>-0.683057</td>\n",
       "      <td>-0.608047</td>\n",
       "      <td>-1.441427</td>\n",
       "      <td>0.616234</td>\n",
       "      <td>-0.498035</td>\n",
       "      <td>-1.059447</td>\n",
       "      <td>-0.389594</td>\n",
       "      <td>...</td>\n",
       "      <td>-7.386772e-16</td>\n",
       "      <td>2.580710e-16</td>\n",
       "      <td>3.102646e-16</td>\n",
       "      <td>4.172562e-16</td>\n",
       "      <td>-1.101640e-15</td>\n",
       "      <td>9.942241e-16</td>\n",
       "      <td>1.041029e-16</td>\n",
       "      <td>-6.613082e-16</td>\n",
       "      <td>-2.549598e-16</td>\n",
       "      <td>-1.439358e-16</td>\n",
       "    </tr>\n",
       "    <tr>\n",
       "      <th>4</th>\n",
       "      <td>0.423238</td>\n",
       "      <td>-0.939308</td>\n",
       "      <td>1.416368</td>\n",
       "      <td>-0.911365</td>\n",
       "      <td>0.957491</td>\n",
       "      <td>-0.051390</td>\n",
       "      <td>0.295801</td>\n",
       "      <td>0.038175</td>\n",
       "      <td>1.593511</td>\n",
       "      <td>0.127227</td>\n",
       "      <td>...</td>\n",
       "      <td>3.283207e-16</td>\n",
       "      <td>2.262113e-16</td>\n",
       "      <td>-1.554740e-16</td>\n",
       "      <td>-1.757010e-16</td>\n",
       "      <td>2.193041e-16</td>\n",
       "      <td>4.341580e-16</td>\n",
       "      <td>2.579035e-16</td>\n",
       "      <td>8.699954e-17</td>\n",
       "      <td>-7.388567e-16</td>\n",
       "      <td>7.166459e-17</td>\n",
       "    </tr>\n",
       "  </tbody>\n",
       "</table>\n",
       "<p>5 rows × 43 columns</p>\n",
       "</div>"
      ],
      "text/plain": [
       "         0         1         2         3         4         5         6   \\\n",
       "0  1.269263 -1.507346  1.284316 -0.098033 -0.601353  0.544608 -0.631270   \n",
       "1 -0.344733 -0.790218  1.601187 -0.055468 -0.877057 -1.087338 -0.127872   \n",
       "2  0.856185 -1.116424  1.652119  0.849624 -0.993016 -0.863368  0.786258   \n",
       "3  0.351291 -1.728754  1.099994 -0.683057 -0.608047 -1.441427  0.616234   \n",
       "4  0.423238 -0.939308  1.416368 -0.911365  0.957491 -0.051390  0.295801   \n",
       "\n",
       "         7         8         9   ...            33            34  \\\n",
       "0  0.680723 -0.100626  0.188436  ...  1.684839e-16 -2.675465e-16   \n",
       "1  0.624075 -0.314196  0.337404  ...  2.363792e-16 -1.089000e-16   \n",
       "2  1.180368  0.868483  0.290231  ... -2.975968e-16 -3.121652e-16   \n",
       "3 -0.498035 -1.059447 -0.389594  ... -7.386772e-16  2.580710e-16   \n",
       "4  0.038175  1.593511  0.127227  ...  3.283207e-16  2.262113e-16   \n",
       "\n",
       "             35            36            37            38            39  \\\n",
       "0 -5.448152e-16  1.639680e-16  1.797988e-16 -2.801612e-16  1.501601e-16   \n",
       "1  2.508597e-16  2.013084e-17 -2.912577e-16 -3.089059e-16 -8.444357e-17   \n",
       "2  2.231929e-16  3.083811e-16 -4.086399e-18 -2.116233e-16 -4.987443e-17   \n",
       "3  3.102646e-16  4.172562e-16 -1.101640e-15  9.942241e-16  1.041029e-16   \n",
       "4 -1.554740e-16 -1.757010e-16  2.193041e-16  4.341580e-16  2.579035e-16   \n",
       "\n",
       "             40            41            42  \n",
       "0  2.571071e-16  5.318253e-16 -7.181796e-17  \n",
       "1  3.065399e-16  4.504891e-16 -1.031252e-16  \n",
       "2 -1.573530e-16  3.250713e-16  1.800139e-16  \n",
       "3 -6.613082e-16 -2.549598e-16 -1.439358e-16  \n",
       "4  8.699954e-17 -7.388567e-16  7.166459e-17  \n",
       "\n",
       "[5 rows x 43 columns]"
      ]
     },
     "execution_count": 38,
     "metadata": {},
     "output_type": "execute_result"
    }
   ],
   "source": [
    "PC = pd.DataFrame(data = PCs)\n",
    "PC.head()"
   ]
  },
  {
   "cell_type": "code",
   "execution_count": 39,
   "id": "57805f2c",
   "metadata": {},
   "outputs": [
    {
     "data": {
      "text/plain": [
       "RangeIndex(start=0, stop=43, step=1)"
      ]
     },
     "execution_count": 39,
     "metadata": {},
     "output_type": "execute_result"
    }
   ],
   "source": [
    "PC.columns"
   ]
  },
  {
   "cell_type": "code",
   "execution_count": 40,
   "id": "94f77914",
   "metadata": {},
   "outputs": [
    {
     "data": {
      "text/plain": [
       "<BarContainer object of 43 artists>"
      ]
     },
     "execution_count": 40,
     "metadata": {},
     "output_type": "execute_result"
    },
    {
     "data": {
      "image/png": "[encoded data removed]",
      "text/plain": [
       "<Figure size 432x288 with 1 Axes>"
      ]
     },
     "metadata": {
      "needs_background": "light"
     },
     "output_type": "display_data"
    }
   ],
   "source": [
    "import matplotlib.pyplot as plt\n",
    "plt.barh(PC.columns,pca.explained_variance_ratio_)"
   ]
  },
  {
   "cell_type": "code",
   "execution_count": 24,
   "id": "671d536d",
   "metadata": {},
   "outputs": [],
   "source": [
    "#To form Clusters(KMEANS algorithm):"
   ]
  },
  {
   "cell_type": "code",
   "execution_count": 25,
   "id": "c788d82d",
   "metadata": {},
   "outputs": [],
   "source": [
    "B=Xnew[[\"cheap_Yes\",\"expensive_Yes\"]]\n"
   ]
  },
  {
   "cell_type": "code",
   "execution_count": 26,
   "id": "311d6031",
   "metadata": {},
   "outputs": [
    {
     "data": {
      "text/html": [
       "<div>\n",
       "<style scoped>\n",
       "    .dataframe tbody tr th:only-of-type {\n",
       "        vertical-align: middle;\n",
       "    }\n",
       "\n",
       "    .dataframe tbody tr th {\n",
       "        vertical-align: top;\n",
       "    }\n",
       "\n",
       "    .dataframe thead th {\n",
       "        text-align: right;\n",
       "    }\n",
       "</style>\n",
       "<table border=\"1\" class=\"dataframe\">\n",
       "  <thead>\n",
       "    <tr style=\"text-align: right;\">\n",
       "      <th></th>\n",
       "      <th>cheap_Yes</th>\n",
       "      <th>expensive_Yes</th>\n",
       "    </tr>\n",
       "  </thead>\n",
       "  <tbody>\n",
       "    <tr>\n",
       "      <th>0</th>\n",
       "      <td>1</td>\n",
       "      <td>1</td>\n",
       "    </tr>\n",
       "    <tr>\n",
       "      <th>1</th>\n",
       "      <td>1</td>\n",
       "      <td>1</td>\n",
       "    </tr>\n",
       "    <tr>\n",
       "      <th>2</th>\n",
       "      <td>0</td>\n",
       "      <td>1</td>\n",
       "    </tr>\n",
       "    <tr>\n",
       "      <th>3</th>\n",
       "      <td>1</td>\n",
       "      <td>0</td>\n",
       "    </tr>\n",
       "    <tr>\n",
       "      <th>4</th>\n",
       "      <td>1</td>\n",
       "      <td>0</td>\n",
       "    </tr>\n",
       "    <tr>\n",
       "      <th>...</th>\n",
       "      <td>...</td>\n",
       "      <td>...</td>\n",
       "    </tr>\n",
       "    <tr>\n",
       "      <th>1448</th>\n",
       "      <td>0</td>\n",
       "      <td>1</td>\n",
       "    </tr>\n",
       "    <tr>\n",
       "      <th>1449</th>\n",
       "      <td>1</td>\n",
       "      <td>0</td>\n",
       "    </tr>\n",
       "    <tr>\n",
       "      <th>1450</th>\n",
       "      <td>0</td>\n",
       "      <td>1</td>\n",
       "    </tr>\n",
       "    <tr>\n",
       "      <th>1451</th>\n",
       "      <td>1</td>\n",
       "      <td>0</td>\n",
       "    </tr>\n",
       "    <tr>\n",
       "      <th>1452</th>\n",
       "      <td>0</td>\n",
       "      <td>1</td>\n",
       "    </tr>\n",
       "  </tbody>\n",
       "</table>\n",
       "<p>1453 rows × 2 columns</p>\n",
       "</div>"
      ],
      "text/plain": [
       "      cheap_Yes  expensive_Yes\n",
       "0             1              1\n",
       "1             1              1\n",
       "2             0              1\n",
       "3             1              0\n",
       "4             1              0\n",
       "...         ...            ...\n",
       "1448          0              1\n",
       "1449          1              0\n",
       "1450          0              1\n",
       "1451          1              0\n",
       "1452          0              1\n",
       "\n",
       "[1453 rows x 2 columns]"
      ]
     },
     "execution_count": 26,
     "metadata": {},
     "output_type": "execute_result"
    }
   ],
   "source": [
    "B"
   ]
  },
  {
   "cell_type": "code",
   "execution_count": 48,
   "id": "1e3dd695",
   "metadata": {},
   "outputs": [
    {
     "data": {
      "text/plain": [
       "array([2, 2, 1, ..., 1, 0, 1])"
      ]
     },
     "execution_count": 48,
     "metadata": {},
     "output_type": "execute_result"
    }
   ],
   "source": [
    "#Defining 4 clusters initially:\n",
    "from sklearn.cluster import KMeans\n",
    "km = KMeans(n_clusters=3)\n",
    "model = km.fit(B)\n",
    "model.labels_"
   ]
  },
  {
   "cell_type": "code",
   "execution_count": 49,
   "id": "f850f65a",
   "metadata": {},
   "outputs": [],
   "source": [
    "#this step tells which point belongs to which cluster:\n",
    "B[\"Cluster\"]=model.labels_"
   ]
  },
  {
   "cell_type": "code",
   "execution_count": 50,
   "id": "082f8b80",
   "metadata": {},
   "outputs": [
    {
     "data": {
      "text/html": [
       "<div>\n",
       "<style scoped>\n",
       "    .dataframe tbody tr th:only-of-type {\n",
       "        vertical-align: middle;\n",
       "    }\n",
       "\n",
       "    .dataframe tbody tr th {\n",
       "        vertical-align: top;\n",
       "    }\n",
       "\n",
       "    .dataframe thead th {\n",
       "        text-align: right;\n",
       "    }\n",
       "</style>\n",
       "<table border=\"1\" class=\"dataframe\">\n",
       "  <thead>\n",
       "    <tr style=\"text-align: right;\">\n",
       "      <th></th>\n",
       "      <th>cheap_Yes</th>\n",
       "      <th>expensive_Yes</th>\n",
       "      <th>Cluster</th>\n",
       "    </tr>\n",
       "  </thead>\n",
       "  <tbody>\n",
       "    <tr>\n",
       "      <th>0</th>\n",
       "      <td>1</td>\n",
       "      <td>1</td>\n",
       "      <td>2</td>\n",
       "    </tr>\n",
       "    <tr>\n",
       "      <th>1</th>\n",
       "      <td>1</td>\n",
       "      <td>1</td>\n",
       "      <td>2</td>\n",
       "    </tr>\n",
       "    <tr>\n",
       "      <th>2</th>\n",
       "      <td>0</td>\n",
       "      <td>1</td>\n",
       "      <td>1</td>\n",
       "    </tr>\n",
       "    <tr>\n",
       "      <th>3</th>\n",
       "      <td>1</td>\n",
       "      <td>0</td>\n",
       "      <td>0</td>\n",
       "    </tr>\n",
       "    <tr>\n",
       "      <th>4</th>\n",
       "      <td>1</td>\n",
       "      <td>0</td>\n",
       "      <td>0</td>\n",
       "    </tr>\n",
       "    <tr>\n",
       "      <th>...</th>\n",
       "      <td>...</td>\n",
       "      <td>...</td>\n",
       "      <td>...</td>\n",
       "    </tr>\n",
       "    <tr>\n",
       "      <th>1448</th>\n",
       "      <td>0</td>\n",
       "      <td>1</td>\n",
       "      <td>1</td>\n",
       "    </tr>\n",
       "    <tr>\n",
       "      <th>1449</th>\n",
       "      <td>1</td>\n",
       "      <td>0</td>\n",
       "      <td>0</td>\n",
       "    </tr>\n",
       "    <tr>\n",
       "      <th>1450</th>\n",
       "      <td>0</td>\n",
       "      <td>1</td>\n",
       "      <td>1</td>\n",
       "    </tr>\n",
       "    <tr>\n",
       "      <th>1451</th>\n",
       "      <td>1</td>\n",
       "      <td>0</td>\n",
       "      <td>0</td>\n",
       "    </tr>\n",
       "    <tr>\n",
       "      <th>1452</th>\n",
       "      <td>0</td>\n",
       "      <td>1</td>\n",
       "      <td>1</td>\n",
       "    </tr>\n",
       "  </tbody>\n",
       "</table>\n",
       "<p>1453 rows × 3 columns</p>\n",
       "</div>"
      ],
      "text/plain": [
       "      cheap_Yes  expensive_Yes  Cluster\n",
       "0             1              1        2\n",
       "1             1              1        2\n",
       "2             0              1        1\n",
       "3             1              0        0\n",
       "4             1              0        0\n",
       "...         ...            ...      ...\n",
       "1448          0              1        1\n",
       "1449          1              0        0\n",
       "1450          0              1        1\n",
       "1451          1              0        0\n",
       "1452          0              1        1\n",
       "\n",
       "[1453 rows x 3 columns]"
      ]
     },
     "execution_count": 50,
     "metadata": {},
     "output_type": "execute_result"
    }
   ],
   "source": [
    "#over here those saying food is expensive are placed in cluster 1, food cheap in cluster 0,having mixed advice is in cluster 2;\n",
    "B"
   ]
  },
  {
   "cell_type": "code",
   "execution_count": 41,
   "id": "e008d4da",
   "metadata": {},
   "outputs": [
    {
     "data": {
      "text/plain": [
       "array([[ 1.00000000e+00,  3.88578059e-16],\n",
       "       [-7.77156117e-16,  1.00000000e+00],\n",
       "       [ 3.33066907e-16,  1.11022302e-16],\n",
       "       [ 1.00000000e+00,  1.00000000e+00]])"
      ]
     },
     "execution_count": 41,
     "metadata": {},
     "output_type": "execute_result"
    }
   ],
   "source": [
    "model.cluster_centers_"
   ]
  },
  {
   "cell_type": "code",
   "execution_count": null,
   "id": "cea8a8f6",
   "metadata": {},
   "outputs": [],
   "source": []
  }
 ],
 "metadata": {
  "kernelspec": {
   "display_name": "Python 3",
   "language": "python",
   "name": "python3"
  },
  "language_info": {
   "codemirror_mode": {
    "name": "ipython",
    "version": 3
   },
   "file_extension": ".py",
   "mimetype": "text/x-python",
   "name": "python",
   "nbconvert_exporter": "python",
   "pygments_lexer": "ipython3",
   "version": "3.8.8"
  }
 },
 "nbformat": 4,
 "nbformat_minor": 5
}
